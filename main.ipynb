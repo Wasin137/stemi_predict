{
 "cells": [
  {
   "cell_type": "code",
   "execution_count": 1,
   "metadata": {},
   "outputs": [],
   "source": [
    "import pandas as pd\n",
    "import numpy as np\n",
    "\n",
    "\n",
    "pd.set_option('display.max_columns', 500)\n",
    "file_path = 'data/STEMI.xlsx'\n",
    "stemi_64 = pd.read_excel(file_path, sheet_name='64')\n",
    "stemi_64.dropna(subset=['No'], how='all', inplace=True)\n"
   ]
  },
  {
   "cell_type": "code",
   "execution_count": 2,
   "metadata": {},
   "outputs": [
    {
     "data": {
      "text/plain": [
       "['Run No ใหม่',\n",
       " 'No',\n",
       " 'ชื่อ-สกุล',\n",
       " 'ชาย',\n",
       " 'หญิง',\n",
       " 'อายุ',\n",
       " 'HN',\n",
       " 'AN',\n",
       " 'ID',\n",
       " 'ประเภท',\n",
       " '1.FMC',\n",
       " 'Discharge',\n",
       " 'LOS (วัน)',\n",
       " 'ค่ารักษาพยาบาล',\n",
       " 'สิทธิ์',\n",
       " 'การมา',\n",
       " 'Onset of Symptom : วันที่',\n",
       " 'D to EKG : case walk in/ EMS/ IPD (นาที)',\n",
       " 'D to EKG : case รพช.ใน จ.สงขลา (นาที)',\n",
       " 'D to EKG : case รพ. เอกชน (นาที)',\n",
       " 'D to EKG : case รพ. ตจว. (นาที)',\n",
       " 'ระบุ เหตุผล EKG ช้า',\n",
       " 'Diagnosis วันที่',\n",
       " 'No Chest pain',\n",
       " 'Typical CP',\n",
       " 'Atypical CP',\n",
       " 'Unknown  Angina',\n",
       " 'No Dyspnea ',\n",
       " 'DOE',\n",
       " 'Orthopnea',\n",
       " 'PND',\n",
       " 'Unknown Dyspnea',\n",
       " 'No Syncope',\n",
       " 'Syncope',\n",
       " 'No Cardiac arrest',\n",
       " 'Yes Cardiac arrest',\n",
       " 'แรกรับ at  หญ. : HR ',\n",
       " 'แรกรับ : SBP',\n",
       " 'แรกรับ : DBP',\n",
       " 'แรกรับ : RR ',\n",
       " 'แรกรับ O2 sat',\n",
       " '1. DM',\n",
       " '2. HT',\n",
       " '3. DLP',\n",
       " '4. Smoking',\n",
       " '4.1 No smoking',\n",
       " '5. FH',\n",
       " '6. Prior MI',\n",
       " '7. Prior HF',\n",
       " '8. Prior PCI',\n",
       " '9. Prior CABG',\n",
       " '10. CVA',\n",
       " '11. PAD',\n",
       " '12. COPD',\n",
       " '13. CKD ≥ Stage 3 (eGFR<60cc/min)',\n",
       " 'Cr',\n",
       " 'GFR',\n",
       " 'Hx On Dialysis',\n",
       " '14. โรคร่วมอื่นๆ',\n",
       " 'Elevate Trop N',\n",
       " 'No Elevate Trop N',\n",
       " 'Killip 1',\n",
       " 'Killip 2',\n",
       " 'Killip 3',\n",
       " 'Killip 4',\n",
       " 'แรกรับมีภาวะแทรกซ้อน (ราย)',\n",
       " 'Cardiogenic shock',\n",
       " 'HF',\n",
       " 'แรกรับ On ETT',\n",
       " 'แรกรับ No ETT',\n",
       " 'A. Tachyarrhythmia',\n",
       " '1. AF',\n",
       " '2. SVT',\n",
       " '3. Non-sustained VT ',\n",
       " '4. VT/ VF',\n",
       " '5. VT/VF Required defibrillation',\n",
       " '6. CPR ',\n",
       " 'B. Bradyarrhythmia',\n",
       " '1. CHB ',\n",
       " '2. 2 ํ AV Block',\n",
       " 'On Ext. pace',\n",
       " 'On TPM',\n",
       " 'ระบุ : แรกรับมีภาวะแทรกซ้อน อื่นๆ',\n",
       " 'Echo in Visit',\n",
       " 'EF %',\n",
       " 'วันที่ให้ SK',\n",
       " 'SK at หญ. ',\n",
       " 'SK at หญ. เปิดหลอดเลือดสำเร็จ',\n",
       " 'SK at หญ. เปิดหลอดเลือดไม่สำเร็จ',\n",
       " 'SK at รพช. / รพท. / รพ. เอกชน  ใน จ. สงขลา',\n",
       " 'SK at รพช. / รพท. / รพ. เอกชน ใน จ. สงขลา เปิดหลอดเลือดสำเร็จ',\n",
       " 'SK at รพช. /รพท. / รพ. เอกชน ใน จ. สงขลา เปิดหลอดเลือดไม่สำเร็จ',\n",
       " 'SK at ตจว.',\n",
       " 'SK at ตจว. เปิดหลอดเลือดสำเร็จ',\n",
       " 'SK at ตจว. เปิดหลอดเลือดไม่สำเร็จ',\n",
       " 'SK หญ. D to N  (นาที)',\n",
       " 'SK หญ. O to N (นาที)',\n",
       " 'SK หญ. FMC to N (นาที)',\n",
       " 'SK หญ. STEMI Dx to N (นาที)',\n",
       " 'SK หญ. Door to Needle ≤ 30นาที (ราย)',\n",
       " 'SK หญ. Dx to N ≤ 30นาที (ราย)',\n",
       " 'SK รพช./ รพท. / รพ. เอกชน ใน จ. สงขลา D to N  (นาที)',\n",
       " 'SK รพช./ รพท. / รพ. เอกชน ใน จ. สงขลา O to N (นาที) ',\n",
       " 'SK รพช. / รพท. / รพ. เอกชนสงขลา FMC to N (นาที)',\n",
       " 'รพช. / รพท. / รพ. เอกชน ใน จ. สงขลา STEMI Dx to N (นาที)',\n",
       " 'SK รพช. / รพท. / รพ. เอกชนใน จ.สงขลา Door to N ≤ 30นาที (ราย)',\n",
       " 'SK รพช./ รพท. / รพ. เอกชน ใน จ.สงขลา Dx to N ≤ 30นาที (ราย)',\n",
       " '1. No SK :  มี Contraindication',\n",
       " '2. No SK : Onset Time > 12 hr ',\n",
       " '3. No SK : Spontaneous Resolution',\n",
       " '4. No SK : Not Consent ',\n",
       " '5. No SK : Reason Unknown (Missed Dx, Delay Dx, Delay Consult)',\n",
       " 'ระบุ คร่าวๆ : Reason Unknown ',\n",
       " 'Major Bl จาก SK',\n",
       " 'ระบุ : Major Bl จาก SK',\n",
       " 'Minor Bl จาก SK',\n",
       " 'ระบุ : Minor Bl จาก SK',\n",
       " '1. SE SK : BP drop',\n",
       " '2. SE SK : หน้ามืด',\n",
       " '3. SE SK : N/V',\n",
       " '4. SE SK : ผื่นแดง',\n",
       " '5. SE SK Anaphylaxis',\n",
       " '6. SE SK อื่นๆ ระบุ',\n",
       " '1. PPCI ทั้งหมด',\n",
       " '1.1 Non Refer : PPCI',\n",
       " '1.2 Refer : PPCI',\n",
       " 'Non Refer : D to B  นาที',\n",
       " 'Non Refer : O to B นาที ',\n",
       " 'Non Refer : FMC to D นาที',\n",
       " 'Non Refer : STEMI Dx to D นาที',\n",
       " 'Non Refer : STEMI Door to B ≤ 90นาที (ราย)',\n",
       " 'Non Refer : STEMI Dx to D ≤ 60นาที (ราย)',\n",
       " 'Non Refer : STEMI Dx to D ≤ 90นาที (ราย)',\n",
       " 'Non Refer : STEMI Dx to D ≤ 120นาที (ราย)',\n",
       " 'Refer case : D to B  นาที',\n",
       " 'Refer case : O to B  นาที ',\n",
       " 'Refer case : FMC to D นาที',\n",
       " 'Refer case  : STEMI Dx to D นาที',\n",
       " ' Refer case : STEMI Door to B ≤ 90นาที (ราย)',\n",
       " 'Refer case : STEMI Dx to D ≤120 นาที (ราย)',\n",
       " '2. Rescue PCI',\n",
       " '3. Phamacoinvasive Strategy (เฉพาะ TNK เท่านั้น)',\n",
       " '4. Routine early PCI for STEMI (Stable after successful full-dose Fibrinolytics',\n",
       " '5. PCI For Resent STEMI ',\n",
       " '6. Emergency CAG',\n",
       " '7. Elective CAG ',\n",
       " '8. Elective CAG + PCI',\n",
       " 'วันที่ทำ CAG ± PCI',\n",
       " ' Puncture time : วันที่',\n",
       " 'Time at First Device : วันที่',\n",
       " 'Finish Time (Final Angio Time) วันที่',\n",
       " 'พ. ผู้ทำ',\n",
       " 'PCI in 72 hr',\n",
       " 'PCI > 72 hr',\n",
       " 'Procedure success : Yes',\n",
       " 'Procedure success : No',\n",
       " 'CAG in 72 hr',\n",
       " 'CAG > 72 hr',\n",
       " 'ผล CAG : SVD',\n",
       " 'ผล CAG : DVD',\n",
       " 'ผล CAG : TVD',\n",
       " 'ผล CAG : TVD c LM',\n",
       " 'ผล CAG : Non Sig',\n",
       " 'ผล CAG อื่นๆ',\n",
       " 'ผล PCI',\n",
       " 'Right Vessel Dominant',\n",
       " 'Left Vessel Dominant',\n",
       " 'Co-Vessel Dominant',\n",
       " 'ไม่ได้ CAG ± PCI in Visit นี้',\n",
       " '1. ปฏิเสธ PCI',\n",
       " '2. ไม่ได้ PCI :  เหตุผลอื่นๆ ',\n",
       " 'On IABP',\n",
       " 'On ECMO',\n",
       " 'มี Major Bl จาก PCI',\n",
       " 'ระบุ Major Bl จาก PCI',\n",
       " 'มี Minor Bl จาก PCI',\n",
       " 'ระบุ Minor Bl จาก PCI',\n",
       " 'สรุปมีภาวะแทรกซ้อนขณะอยู่รพ. (ราย)',\n",
       " '1. HF',\n",
       " '1.1 HF : On Ventilator',\n",
       " '1.2 HF : No Ventilator',\n",
       " '2. Cardiogenic shock',\n",
       " '3. Stroke',\n",
       " '3.1 Ischemic Stroke',\n",
       " '3.2 Hemorrhagic Stroke',\n",
       " '3.3 Not known Stroke',\n",
       " '4. ARF จาก CIN',\n",
       " '4.1 Hemodialysis',\n",
       " '4.2 Peritonial dialysis',\n",
       " '4.3 Other : ล้างไตอื่นๆ ',\n",
       " '4.4 มี ARF (จาก CIN) แต่ไม่ได้ล้าง หรือไม่ต้องล้างไต',\n",
       " '5. รวมมี Minor Bleed (ราย)',\n",
       " '5.1 ระบุ : Minor Bleed (รวม)',\n",
       " '6. รวมมี Major Bl / Hematoma (ราย)',\n",
       " '6.1 ระบุ : Major Bl / Hematoma (รวม)',\n",
       " '6.3 Required Blood Transfusion',\n",
       " 'รวม Arrhythmia ทั้งหมด (ราย)',\n",
       " 'A: Tachyarrhythmia (ราย)',\n",
       " '1. AF.1',\n",
       " '2. SVT.1',\n",
       " '3. Non sustained VT',\n",
       " '4. VT/VF',\n",
       " '5. VT/VF Required defibrillation.1',\n",
       " '6. CPR',\n",
       " '7. CPR รอด',\n",
       " 'B : Bradyarrhythmia (ราย)',\n",
       " '1. CHB .1',\n",
       " '2. 2 ํ AV Block.1',\n",
       " '3. Ext. pace',\n",
       " '4. TPM',\n",
       " 'สรุปมี Arrhythmia อื่นๆ ขณะอยู่ รพ. : ระบุ',\n",
       " 'มี Mechanical Complication (ราย)',\n",
       " '1. VSR',\n",
       " '2. Rupture Free Wall',\n",
       " '3. Severe MR',\n",
       " '4. Stent Thrombosis',\n",
       " '5. Other : Mechanical Complication ระบุ',\n",
       " 'D/C Death ทั้งหมด',\n",
       " 'ตาย : ได้ SK หาดใหญ่',\n",
       " 'ตาย : ได้ SK ใน จ. สงขลา',\n",
       " 'ตาย : ได้ SK นอก จ. สงขลา',\n",
       " 'ตาย : ได้ PPCI',\n",
       " 'ตาย : ได้ RPCI',\n",
       " 'ตาย : Elective PCI',\n",
       " 'ตาย : On IABP',\n",
       " 'ตาย : On ECMO',\n",
       " '1. ตาย: Pump Failure',\n",
       " '2. ตาย: Arrhythmia',\n",
       " '3. ตาย: Mechanical complication',\n",
       " 'ระบุ ตาย: Mechanical complication',\n",
       " '4. ตาย: Non cardiac cause',\n",
       " 'ระบุ ตาย: Non cardiac cause',\n",
       " '5. ตาย : SCD',\n",
       " 'ตาย: Killip 1',\n",
       " 'ตาย: Killip 2',\n",
       " 'ตาย: Killip 3',\n",
       " 'ตาย: Killip 4',\n",
       " 'ตาย : Walk in ',\n",
       " 'ตาย: ผู้ป่วยใน รพ. ',\n",
       " 'ตาย: EMS ',\n",
       " 'ตาย : Refer ใน จ. สงขลา ',\n",
       " 'ระบุชื่อรพ. ตาย : Refer ใน จ. สงขลา ',\n",
       " 'ตาย : Refer ตจว.',\n",
       " 'ระบุชื่อรพ. ตาย : Refer ตจว. ',\n",
       " 'ตาย : รพ. เอกชน Refer',\n",
       " 'ระบุชื่อรพ. ตาย : รพ. เอกชน Refer',\n",
       " 'ตาย : รพ. มอ. Refer',\n",
       " 'D/C ทุเลา',\n",
       " 'D/C ไม่สมัครอยู่',\n",
       " 'เหตุผล : D/C ไม่สมัครอยู่',\n",
       " 'Refer กลับ รพ. เดิม/ รพ. อื่น',\n",
       " 'ระบุ รพ. Refer กลับรพ. เดิม/ รพ. อื่น',\n",
       " 'เหตุผล: Refer กลับรพ. เดิม/ รพ. อื่น',\n",
       " 'Referรพ. ศักยภาพสูงกว่า',\n",
       " 'ระบุ รพ. Refer รพ. ศักยภาพสูงกว่า',\n",
       " 'เหตุผล : Referรพ.ศักยภาพสูงกว่า',\n",
       " 'Refer รพ. เอกชน',\n",
       " 'ระบุ รพ. Refer เอกชน',\n",
       " 'เหตุผล Refer รพ. เอกชน',\n",
       " 'หนีกลับ',\n",
       " 'HM 1. ASA',\n",
       " 'ไม่ได้ HM ASA : ระบุเหตุผล',\n",
       " 'HM : 2. P2Y12 inhibitors',\n",
       " '2.1 Clopidogrel',\n",
       " '2.2 Prasugrel',\n",
       " '2.3 Ticagrelor',\n",
       " 'ไม่ได้ HM P2Y12 inhibitor : ระบุเหตุผล',\n",
       " 'HM 3. Beta blocker',\n",
       " 'HM 4. ACEI/ ARB',\n",
       " 'HM 5. Statin',\n",
       " 'HM 6. Wafarin',\n",
       " 'HM 6.1 NOAC',\n",
       " '1. Initial Dx I210 : STEMI AW',\n",
       " '2. Initial Dx I211 : STEMI IW',\n",
       " '3. Initial Dx I212 : STEMI other site ',\n",
       " '4. Initial Dx I213 : STEMI unspecified site',\n",
       " '5. Initial Dx I214 : NSTEMI',\n",
       " '6. Initial Dx I200 : Unstable Angina',\n",
       " ' 7. Initial Dx อื่นๆ ระบุ',\n",
       " '1. MI type I',\n",
       " '2. MI type II',\n",
       " '3. MI type III',\n",
       " '4. MI type IV',\n",
       " '4.1 MI type IV a',\n",
       " '4.2 MI type IV b',\n",
       " '4.2 MI type IV c',\n",
       " '4. MI type V',\n",
       " 'Final Dx 1. I210 : STEMI AW',\n",
       " 'F 2. I211 : STEMI IW',\n",
       " 'F 3. I212 : STEMI other site ',\n",
       " 'F 4. I213 : STEMI unspecified site',\n",
       " 'F 5. I214 : NSTEMI',\n",
       " 'F 6. I200 : Unstable Angina',\n",
       " 'F 7. I220 : Subsequent AW MI (Recent MI in 28 วัน)',\n",
       " 'F 8. I221 : Subsequent IW MI (Recent MI in 28 วัน)',\n",
       " 'F 9. I228 : Subsequent other site MI (Recent MI in 28 วัน)',\n",
       " 'F 10. Final Dx อื่นๆ ระบุ',\n",
       " 'บันทึกข้อมูล / ปัญหาต่าง ๆ']"
      ]
     },
     "metadata": {},
     "output_type": "display_data"
    }
   ],
   "source": [
    "display((stemi_64.columns).tolist())"
   ]
  },
  {
   "cell_type": "code",
   "execution_count": 3,
   "metadata": {},
   "outputs": [],
   "source": [
    "columns_profile = ['No', 'ชื่อ-สกุล', 'ชาย', 'หญิง', 'อายุ', 'HN', 'AN', 'ID', 'ประเภท']\n",
    "\n",
    "columns_hospital = ['1.FMC',\n",
    " 'Discharge',\n",
    " 'LOS (วัน)',\n",
    " 'ค่ารักษาพยาบาล',\n",
    " 'สิทธิ์',\n",
    " 'การมา']\n",
    " \n",
    "columns_timing = ['Onset of Symptom : วันที่', 'D to EKG : case walk in/ EMS/ IPD (นาที)', 'D to EKG : case รพช.ใน จ.สงขลา (นาที)', 'D to EKG : case รพ. เอกชน (นาที)', 'D to EKG : case รพ. ตจว. (นาที)', 'ระบุ เหตุผล EKG ช้า']\n",
    "\n",
    "columns_duration = ['No Chest pain',\n",
    " 'Typical CP',\n",
    " 'Atypical CP',\n",
    " 'Unknown  Angina',\n",
    " 'No Dyspnea ',\n",
    " 'DOE',\n",
    " 'Orthopnea',\n",
    " 'PND',\n",
    " 'Unknown Dyspnea',\n",
    " 'No Syncope',\n",
    " 'Syncope',\n",
    " 'No Cardiac arrest',\n",
    " 'Yes Cardiac arrest']\n",
    " \n",
    "columns_first_vs = ['แรกรับ at  หญ. : HR ', 'แรกรับ : SBP', 'แรกรับ : DBP', 'แรกรับ : RR ', 'แรกรับ O2 sat']\n",
    "\n",
    "columns_ud = ['1. DM',\n",
    " '2. HT',\n",
    " '3. DLP',\n",
    " '4. Smoking',\n",
    " '4.1 No smoking',\n",
    " '5. FH',\n",
    " '6. Prior MI',\n",
    " '7. Prior HF',\n",
    " '8. Prior PCI',\n",
    " '9. Prior CABG',\n",
    " '10. CVA',\n",
    " '11. PAD',\n",
    " '12. COPD',\n",
    " '13. CKD ≥ Stage 3 (eGFR<60cc/min)',\n",
    " 'Cr',\n",
    " 'GFR',\n",
    " 'Hx On Dialysis',\n",
    " '14. โรคร่วมอื่นๆ']\n",
    "\n",
    "columns_trop = ['Elevate Trop N', 'No Elevate Trop N']\n",
    "\n",
    "columns_killip = ['Killip 1', 'Killip 2', 'Killip 3', 'Killip 4']\n",
    "\n",
    "columns_complication = ['แรกรับมีภาวะแทรกซ้อน (ราย)', 'Cardiogenic shock', 'HF', 'แรกรับ On ETT','แรกรับ No ETT','A. Tachyarrhythmia','1. AF','2. SVT','3. Non-sustained VT ','4. VT/ VF','5. VT/VF Required defibrillation','6. CPR ','B. Bradyarrhythmia','1. CHB ','2. 2 ํ AV Block','On Ext. pace','On TPM','ระบุ : แรกรับมีภาวะแทรกซ้อน อื่นๆ','Echo in Visit','EF %',]\n",
    "columns_sk = ['วันที่ให้ SK',\n",
    " 'SK at หญ. ',\n",
    " 'SK at หญ. เปิดหลอดเลือดสำเร็จ',\n",
    " 'SK at หญ. เปิดหลอดเลือดไม่สำเร็จ',\n",
    " 'SK at รพช. / รพท. / รพ. เอกชน  ใน จ. สงขลา',\n",
    " 'SK at รพช. / รพท. / รพ. เอกชน ใน จ. สงขลา เปิดหลอดเลือดสำเร็จ',\n",
    " 'SK at รพช. /รพท. / รพ. เอกชน ใน จ. สงขลา เปิดหลอดเลือดไม่สำเร็จ',\n",
    " 'SK at ตจว.',\n",
    " 'SK at ตจว. เปิดหลอดเลือดสำเร็จ',\n",
    " 'SK at ตจว. เปิดหลอดเลือดไม่สำเร็จ',\n",
    " 'SK หญ. D to N  (นาที)',\n",
    " 'SK หญ. O to N (นาที)',\n",
    " 'SK หญ. FMC to N (นาที)',\n",
    " 'SK หญ. STEMI Dx to N (นาที)',\n",
    " 'SK หญ. Door to Needle ≤ 30นาที (ราย)',\n",
    " 'SK หญ. Dx to N ≤ 30นาที (ราย)',\n",
    " 'SK รพช./ รพท. / รพ. เอกชน ใน จ. สงขลา D to N  (นาที)',\n",
    " 'SK รพช./ รพท. / รพ. เอกชน ใน จ. สงขลา O to N (นาที) ',\n",
    " 'SK รพช. / รพท. / รพ. เอกชนสงขลา FMC to N (นาที)',\n",
    " 'รพช. / รพท. / รพ. เอกชน ใน จ. สงขลา STEMI Dx to N (นาที)',\n",
    " 'SK รพช. / รพท. / รพ. เอกชนใน จ.สงขลา Door to N ≤ 30นาที (ราย)',\n",
    " 'SK รพช./ รพท. / รพ. เอกชน ใน จ.สงขลา Dx to N ≤ 30นาที (ราย)',\n",
    " '1. No SK :  มี Contraindication',\n",
    " '2. No SK : Onset Time > 12 hr ',\n",
    " '3. No SK : Spontaneous Resolution',\n",
    " '4. No SK : Not Consent ',\n",
    " '5. No SK : Reason Unknown (Missed Dx, Delay Dx, Delay Consult)',\n",
    " 'ระบุ คร่าวๆ : Reason Unknown ',\n",
    " 'Major Bl จาก SK',\n",
    " 'ระบุ : Major Bl จาก SK',\n",
    " 'Minor Bl จาก SK',\n",
    " 'ระบุ : Minor Bl จาก SK',\n",
    " '1. SE SK : BP drop',\n",
    " '2. SE SK : หน้ามืด',\n",
    " '3. SE SK : N/V',\n",
    " '4. SE SK : ผื่นแดง',\n",
    " '5. SE SK Anaphylaxis',\n",
    " '6. SE SK อื่นๆ ระบุ']\n",
    "\n",
    " \n",
    "columns_pci = [ '1. PPCI ทั้งหมด',\n",
    " '1.1 Non Refer : PPCI',\n",
    " '1.2 Refer : PPCI',\n",
    " 'Non Refer : D to B  นาที',\n",
    " 'Non Refer : O to B นาที ',\n",
    " 'Non Refer : FMC to D นาที',\n",
    " 'Non Refer : STEMI Dx to D นาที',\n",
    " 'Non Refer : STEMI Door to B ≤ 90นาที (ราย)',\n",
    " 'Non Refer : STEMI Dx to D ≤ 60นาที (ราย)',\n",
    " 'Non Refer : STEMI Dx to D ≤ 90นาที (ราย)',\n",
    " 'Non Refer : STEMI Dx to D ≤ 120นาที (ราย)',\n",
    " 'Refer case : D to B  นาที',\n",
    " 'Refer case : O to B  นาที ',\n",
    " 'Refer case : FMC to D นาที',\n",
    " 'Refer case  : STEMI Dx to D นาที',\n",
    " ' Refer case : STEMI Door to B ≤ 90นาที (ราย)',\n",
    " 'Refer case : STEMI Dx to D ≤120 นาที (ราย)',\n",
    " '2. Rescue PCI',\n",
    " '3. Phamacoinvasive Strategy (เฉพาะ TNK เท่านั้น)',\n",
    " '4. Routine early PCI for STEMI (Stable after successful full-dose Fibrinolytics',\n",
    " '5. PCI For Resent STEMI ',\n",
    " '6. Emergency CAG',\n",
    " '7. Elective CAG ',\n",
    " '8. Elective CAG + PCI',\n",
    " 'วันที่ทำ CAG ± PCI',\n",
    " ' Puncture time : วันที่',\n",
    " 'Time at First Device : วันที่',\n",
    " 'Finish Time (Final Angio Time) วันที่',\n",
    " 'พ. ผู้ทำ',\n",
    " 'PCI in 72 hr',\n",
    " 'PCI > 72 hr',\n",
    " 'Procedure success : Yes',\n",
    " 'Procedure success : No',\n",
    " 'CAG in 72 hr',\n",
    " 'CAG > 72 hr',\n",
    " 'ผล CAG : SVD',\n",
    " 'ผล CAG : DVD',\n",
    " 'ผล CAG : TVD',\n",
    " 'ผล CAG : TVD c LM',\n",
    " 'ผล CAG : Non Sig',\n",
    " 'ผล CAG อื่นๆ',\n",
    " 'ผล PCI',\n",
    " 'Right Vessel Dominant',\n",
    " 'Left Vessel Dominant',\n",
    " 'Co-Vessel Dominant',\n",
    " 'ไม่ได้ CAG ± PCI in Visit นี้',\n",
    " '1. ปฏิเสธ PCI',\n",
    " '2. ไม่ได้ PCI :  เหตุผลอื่นๆ ',\n",
    " 'On IABP',\n",
    " 'On ECMO',\n",
    " 'มี Major Bl จาก PCI',\n",
    " 'ระบุ Major Bl จาก PCI',\n",
    " 'มี Minor Bl จาก PCI',\n",
    " 'ระบุ Minor Bl จาก PCI']\n",
    "\n",
    "columns_inhos_complication = ['สรุปมีภาวะแทรกซ้อนขณะอยู่รพ. (ราย)',\n",
    " '1. HF',\n",
    " '1.1 HF : On Ventilator',\n",
    " '1.2 HF : No Ventilator',\n",
    " '2. Cardiogenic shock',\n",
    " '3. Stroke',\n",
    " '3.1 Ischemic Stroke',\n",
    " '3.2 Hemorrhagic Stroke',\n",
    " '3.3 Not known Stroke',\n",
    " '4. ARF จาก CIN',\n",
    " '4.1 Hemodialysis',\n",
    " '4.2 Peritonial dialysis',\n",
    " '4.3 Other : ล้างไตอื่นๆ ',\n",
    " '4.4 มี ARF (จาก CIN) แต่ไม่ได้ล้าง หรือไม่ต้องล้างไต',\n",
    " '5. รวมมี Minor Bleed (ราย)',\n",
    " '5.1 ระบุ : Minor Bleed (รวม)',\n",
    " '6. รวมมี Major Bl / Hematoma (ราย)',\n",
    " '6.1 ระบุ : Major Bl / Hematoma (รวม)',\n",
    " '6.3 Required Blood Transfusion']\n",
    "\n",
    "columns_arrhythmia = ['รวม Arrhythmia ทั้งหมด (ราย)',\n",
    " 'A: Tachyarrhythmia (ราย)',\n",
    " '1. AF.1',\n",
    " '2. SVT.1',\n",
    " '3. Non sustained VT',\n",
    " '4. VT/VF',\n",
    " '5. VT/VF Required defibrillation.1',\n",
    " '6. CPR',\n",
    " '7. CPR รอด',\n",
    " 'B : Bradyarrhythmia (ราย)',\n",
    " '1. CHB .1',\n",
    " '2. 2 ํ AV Block.1',\n",
    " '3. Ext. pace',\n",
    " '4. TPM',\n",
    " 'สรุปมี Arrhythmia อื่นๆ ขณะอยู่ รพ. : ระบุ']\n",
    "\n",
    "columns_mech_comp = ['มี Mechanical Complication (ราย)',\n",
    " '1. VSR',\n",
    " '2. Rupture Free Wall',\n",
    " '3. Severe MR',\n",
    " '4. Stent Thrombosis',\n",
    " '5. Other : Mechanical Complication ระบุ']\n",
    "\n",
    "columns_death = ['D/C Death ทั้งหมด',\n",
    " 'ตาย : ได้ SK หาดใหญ่',\n",
    " 'ตาย : ได้ SK ใน จ. สงขลา',\n",
    " 'ตาย : ได้ SK นอก จ. สงขลา',\n",
    " 'ตาย : ได้ PPCI',\n",
    " 'ตาย : ได้ RPCI',\n",
    " 'ตาย : Elective PCI',\n",
    " 'ตาย : On IABP',\n",
    " 'ตาย : On ECMO',\n",
    " '1. ตาย: Pump Failure',\n",
    " '2. ตาย: Arrhythmia',\n",
    " '3. ตาย: Mechanical complication',\n",
    " 'ระบุ ตาย: Mechanical complication',\n",
    " '4. ตาย: Non cardiac cause',\n",
    " 'ระบุ ตาย: Non cardiac cause',\n",
    " '5. ตาย : SCD',\n",
    " 'ตาย: Killip 1',\n",
    " 'ตาย: Killip 2',\n",
    " 'ตาย: Killip 3',\n",
    " 'ตาย: Killip 4',\n",
    " 'ตาย : Walk in ',\n",
    " 'ตาย: ผู้ป่วยใน รพ. ',\n",
    " 'ตาย: EMS ',\n",
    " 'ตาย : Refer ใน จ. สงขลา ',\n",
    " 'ระบุชื่อรพ. ตาย : Refer ใน จ. สงขลา ',\n",
    " 'ตาย : Refer ตจว.',\n",
    " 'ระบุชื่อรพ. ตาย : Refer ตจว. ',\n",
    " 'ตาย : รพ. เอกชน Refer',\n",
    " 'ระบุชื่อรพ. ตาย : รพ. เอกชน Refer',\n",
    " 'ตาย : รพ. มอ. Refer']\n",
    "\n",
    "columns_discharge = ['D/C ทุเลา',\n",
    " 'D/C ไม่สมัครอยู่',\n",
    " 'เหตุผล : D/C ไม่สมัครอยู่',\n",
    " 'Refer กลับ รพ. เดิม/ รพ. อื่น',\n",
    " 'ระบุ รพ. Refer กลับรพ. เดิม/ รพ. อื่น',\n",
    " 'เหตุผล: Refer กลับรพ. เดิม/ รพ. อื่น',\n",
    " 'Referรพ. ศักยภาพสูงกว่า',\n",
    " 'ระบุ รพ. Refer รพ. ศักยภาพสูงกว่า',\n",
    " 'เหตุผล : Referรพ.ศักยภาพสูงกว่า',\n",
    " 'Refer รพ. เอกชน',\n",
    " 'ระบุ รพ. Refer เอกชน',\n",
    " 'เหตุผล Refer รพ. เอกชน',\n",
    " 'หนีกลับ',\n",
    " 'HM 1. ASA',\n",
    " 'ไม่ได้ HM ASA : ระบุเหตุผล',\n",
    " 'HM : 2. P2Y12 inhibitors',\n",
    " '2.1 Clopidogrel',\n",
    " '2.2 Prasugrel',\n",
    " '2.3 Ticagrelor',\n",
    " 'ไม่ได้ HM P2Y12 inhibitor : ระบุเหตุผล',\n",
    " 'HM 3. Beta blocker',\n",
    " 'HM 4. ACEI/ ARB',\n",
    " 'HM 5. Statin',\n",
    " 'HM 6. Wafarin',\n",
    " 'HM 6.1 NOAC']\n",
    "\n",
    "columns_diagnosis = ['1. Initial Dx I210 : STEMI AW',\n",
    " '2. Initial Dx I211 : STEMI IW',\n",
    " '3. Initial Dx I212 : STEMI other site ',\n",
    " '4. Initial Dx I213 : STEMI unspecified site',\n",
    " '5. Initial Dx I214 : NSTEMI',\n",
    " '6. Initial Dx I200 : Unstable Angina',\n",
    " ' 7. Initial Dx อื่นๆ ระบุ',\n",
    " '1. MI type I',\n",
    " '2. MI type II',\n",
    " '3. MI type III',\n",
    " '4. MI type IV',\n",
    " '4.1 MI type IV a',\n",
    " '4.2 MI type IV b',\n",
    " '4.2 MI type IV c',\n",
    " '4. MI type V',\n",
    " 'Final Dx 1. I210 : STEMI AW',\n",
    " 'F 2. I211 : STEMI IW',\n",
    " 'F 3. I212 : STEMI other site ',\n",
    " 'F 4. I213 : STEMI unspecified site',\n",
    " 'F 5. I214 : NSTEMI',\n",
    " 'F 6. I200 : Unstable Angina',\n",
    " 'F 7. I220 : Subsequent AW MI (Recent MI in 28 วัน)',\n",
    " 'F 8. I221 : Subsequent IW MI (Recent MI in 28 วัน)',\n",
    " 'F 9. I228 : Subsequent other site MI (Recent MI in 28 วัน)',\n",
    " 'F 10. Final Dx อื่นๆ ระบุ',\n",
    " 'บันทึกข้อมูล / ปัญหาต่าง ๆ']"
   ]
  },
  {
   "cell_type": "code",
   "execution_count": 4,
   "metadata": {},
   "outputs": [
    {
     "data": {
      "text/html": [
       "<div>\n",
       "<style scoped>\n",
       "    .dataframe tbody tr th:only-of-type {\n",
       "        vertical-align: middle;\n",
       "    }\n",
       "\n",
       "    .dataframe tbody tr th {\n",
       "        vertical-align: top;\n",
       "    }\n",
       "\n",
       "    .dataframe thead th {\n",
       "        text-align: right;\n",
       "    }\n",
       "</style>\n",
       "<table border=\"1\" class=\"dataframe\">\n",
       "  <thead>\n",
       "    <tr style=\"text-align: right;\">\n",
       "      <th></th>\n",
       "      <th>1.FMC</th>\n",
       "      <th>Discharge</th>\n",
       "      <th>LOS (วัน)</th>\n",
       "      <th>ค่ารักษาพยาบาล</th>\n",
       "      <th>สิทธิ์</th>\n",
       "      <th>การมา</th>\n",
       "    </tr>\n",
       "  </thead>\n",
       "  <tbody>\n",
       "    <tr>\n",
       "      <th>0</th>\n",
       "      <td>2020-10-09 09:05:00</td>\n",
       "      <td>2020-10-16 14:17:00</td>\n",
       "      <td>7.0</td>\n",
       "      <td>143032.88</td>\n",
       "      <td>สิทธิ์ UC</td>\n",
       "      <td>EMS</td>\n",
       "    </tr>\n",
       "    <tr>\n",
       "      <th>1</th>\n",
       "      <td>2020-10-06 13:40:00</td>\n",
       "      <td>2020-10-08 14:49:00</td>\n",
       "      <td>2.0</td>\n",
       "      <td>112505.50</td>\n",
       "      <td>สิทธิ์ UC</td>\n",
       "      <td>รพช. รัตภูมิ</td>\n",
       "    </tr>\n",
       "    <tr>\n",
       "      <th>2</th>\n",
       "      <td>2020-10-01 06:00:00</td>\n",
       "      <td>2020-10-04 00:00:00</td>\n",
       "      <td>3.0</td>\n",
       "      <td>216389.00</td>\n",
       "      <td>สิทธิ์ UC</td>\n",
       "      <td>รพ. สตูล</td>\n",
       "    </tr>\n",
       "    <tr>\n",
       "      <th>3</th>\n",
       "      <td>2020-10-05 12:52:00</td>\n",
       "      <td>2020-10-07 15:25:00</td>\n",
       "      <td>2.0</td>\n",
       "      <td>106806.25</td>\n",
       "      <td>สิทธิ์ UC</td>\n",
       "      <td>รพ. ราษฏร์ยินดี</td>\n",
       "    </tr>\n",
       "    <tr>\n",
       "      <th>4</th>\n",
       "      <td>2020-09-30 16:44:00</td>\n",
       "      <td>2020-10-03 12:07:00</td>\n",
       "      <td>3.0</td>\n",
       "      <td>128692.25</td>\n",
       "      <td>เบิกได้</td>\n",
       "      <td>รพช. ควนเนียง</td>\n",
       "    </tr>\n",
       "    <tr>\n",
       "      <th>...</th>\n",
       "      <td>...</td>\n",
       "      <td>...</td>\n",
       "      <td>...</td>\n",
       "      <td>...</td>\n",
       "      <td>...</td>\n",
       "      <td>...</td>\n",
       "    </tr>\n",
       "    <tr>\n",
       "      <th>272</th>\n",
       "      <td>2020-09-20 02:00:00</td>\n",
       "      <td>2020-09-23 18:49:00</td>\n",
       "      <td>3.0</td>\n",
       "      <td>170739.00</td>\n",
       "      <td>สิทธิ์ UC</td>\n",
       "      <td>รพช. นาทวี</td>\n",
       "    </tr>\n",
       "    <tr>\n",
       "      <th>273</th>\n",
       "      <td>2020-09-20 17:12:00</td>\n",
       "      <td>2020-09-25 14:05:00</td>\n",
       "      <td>5.0</td>\n",
       "      <td>122844.50</td>\n",
       "      <td>สิทธิ์ UC</td>\n",
       "      <td>Walk in</td>\n",
       "    </tr>\n",
       "    <tr>\n",
       "      <th>274</th>\n",
       "      <td>2020-08-06 08:00:00</td>\n",
       "      <td>2020-09-17 15:03:00</td>\n",
       "      <td>42.0</td>\n",
       "      <td>149792.00</td>\n",
       "      <td>สิทธิ์ UC</td>\n",
       "      <td>รพช. ปาดังเบซาร์</td>\n",
       "    </tr>\n",
       "    <tr>\n",
       "      <th>275</th>\n",
       "      <td>2020-09-13 20:24:00</td>\n",
       "      <td>2020-09-18 13:02:00</td>\n",
       "      <td>5.0</td>\n",
       "      <td>28415.50</td>\n",
       "      <td>เบิกได้</td>\n",
       "      <td>Walk in</td>\n",
       "    </tr>\n",
       "    <tr>\n",
       "      <th>276</th>\n",
       "      <td>2020-08-20 13:40:00</td>\n",
       "      <td>2020-09-16 01:05:00</td>\n",
       "      <td>29.0</td>\n",
       "      <td>300825.14</td>\n",
       "      <td>สิทธิ์ UC</td>\n",
       "      <td>ผู้ป่วยใน รพ.</td>\n",
       "    </tr>\n",
       "  </tbody>\n",
       "</table>\n",
       "<p>277 rows × 6 columns</p>\n",
       "</div>"
      ],
      "text/plain": [
       "                   1.FMC           Discharge  LOS (วัน)  ค่ารักษาพยาบาล  \\\n",
       "0    2020-10-09 09:05:00 2020-10-16 14:17:00        7.0       143032.88   \n",
       "1    2020-10-06 13:40:00 2020-10-08 14:49:00        2.0       112505.50   \n",
       "2    2020-10-01 06:00:00 2020-10-04 00:00:00        3.0       216389.00   \n",
       "3    2020-10-05 12:52:00 2020-10-07 15:25:00        2.0       106806.25   \n",
       "4    2020-09-30 16:44:00 2020-10-03 12:07:00        3.0       128692.25   \n",
       "..                   ...                 ...        ...             ...   \n",
       "272  2020-09-20 02:00:00 2020-09-23 18:49:00        3.0       170739.00   \n",
       "273  2020-09-20 17:12:00 2020-09-25 14:05:00        5.0       122844.50   \n",
       "274  2020-08-06 08:00:00 2020-09-17 15:03:00       42.0       149792.00   \n",
       "275  2020-09-13 20:24:00 2020-09-18 13:02:00        5.0        28415.50   \n",
       "276  2020-08-20 13:40:00 2020-09-16 01:05:00       29.0       300825.14   \n",
       "\n",
       "        สิทธิ์             การมา  \n",
       "0    สิทธิ์ UC               EMS  \n",
       "1    สิทธิ์ UC      รพช. รัตภูมิ  \n",
       "2    สิทธิ์ UC          รพ. สตูล  \n",
       "3    สิทธิ์ UC   รพ. ราษฏร์ยินดี  \n",
       "4      เบิกได้     รพช. ควนเนียง  \n",
       "..         ...               ...  \n",
       "272  สิทธิ์ UC        รพช. นาทวี  \n",
       "273  สิทธิ์ UC           Walk in  \n",
       "274  สิทธิ์ UC  รพช. ปาดังเบซาร์  \n",
       "275    เบิกได้           Walk in  \n",
       "276  สิทธิ์ UC     ผู้ป่วยใน รพ.  \n",
       "\n",
       "[277 rows x 6 columns]"
      ]
     },
     "execution_count": 4,
     "metadata": {},
     "output_type": "execute_result"
    }
   ],
   "source": [
    "stemi_64[columns_hospital]"
   ]
  },
  {
   "cell_type": "code",
   "execution_count": 5,
   "metadata": {},
   "outputs": [],
   "source": [
    "columns_feather = columns_profile + columns_first_vs + columns_ud + columns_complication + columns_trop + columns_killip"
   ]
  },
  {
   "cell_type": "code",
   "execution_count": 6,
   "metadata": {},
   "outputs": [
    {
     "data": {
      "text/plain": [
       "['Killip 1', 'Killip 2', 'Killip 3', 'Killip 4']"
      ]
     },
     "execution_count": 6,
     "metadata": {},
     "output_type": "execute_result"
    }
   ],
   "source": [
    "columns_killip"
   ]
  },
  {
   "cell_type": "code",
   "execution_count": 7,
   "metadata": {},
   "outputs": [],
   "source": [
    "selected_feather = ['อายุ',\n",
    " 'แรกรับ at  หญ. : HR ',\n",
    " 'แรกรับ : SBP',\n",
    " 'แรกรับ : DBP',\n",
    " 'แรกรับ : RR ',\n",
    " 'แรกรับ O2 sat',\n",
    " '1. DM',\n",
    " '2. HT',\n",
    " '3. DLP',\n",
    " '4. Smoking',\n",
    " '4.1 No smoking',\n",
    " '5. FH',\n",
    " '6. Prior MI',\n",
    " '7. Prior HF',\n",
    " '8. Prior PCI',\n",
    " '9. Prior CABG',\n",
    " '10. CVA',\n",
    " '11. PAD',\n",
    " '12. COPD',\n",
    " '13. CKD ≥ Stage 3 (eGFR<60cc/min)',\n",
    " 'Hx On Dialysis',\n",
    " 'Cardiogenic shock',\n",
    " 'HF',\n",
    " 'แรกรับ On ETT',\n",
    " 'แรกรับ No ETT',\n",
    " 'A. Tachyarrhythmia',\n",
    " '1. AF',\n",
    " '2. SVT',\n",
    " '3. Non-sustained VT ',\n",
    " '4. VT/ VF',\n",
    " '5. VT/VF Required defibrillation',\n",
    " '6. CPR ',\n",
    " 'B. Bradyarrhythmia',\n",
    " '1. CHB ',\n",
    " '2. 2 ํ AV Block',\n",
    " 'On Ext. pace',\n",
    " 'On TPM',\n",
    " 'Echo in Visit',\n",
    " 'EF %',\n",
    " 'Elevate Trop N',\n",
    " 'No Elevate Trop N',\n",
    " 'Killip 1',\n",
    " 'Killip 2',\n",
    " 'Killip 3',\n",
    " 'Killip 4',\n",
    " 'D/C Death ทั้งหมด']"
   ]
  },
  {
   "cell_type": "code",
   "execution_count": 8,
   "metadata": {},
   "outputs": [],
   "source": [
    "features = stemi_64[selected_feather]"
   ]
  },
  {
   "cell_type": "code",
   "execution_count": 9,
   "metadata": {},
   "outputs": [],
   "source": [
    "def replacestrwithnan(df, col):\n",
    "    rep_col = []\n",
    "    for i in df[col]:\n",
    "        if type(i) == str:\n",
    "            rep_col.append(np.nan)\n",
    "        else:\n",
    "            rep_col.append(i)\n",
    "    new_df = df.copy()\n",
    "    new_df[col] = rep_col\n",
    "    return new_df\n",
    "\n",
    "def fillnawithmean(df, col):\n",
    "    new_df = df.copy()\n",
    "    mean_value = np.floor(new_df[col].mean())\n",
    "    new_df[col].fillna(mean_value.round(), inplace=True)\n",
    "    return new_df"
   ]
  },
  {
   "cell_type": "code",
   "execution_count": 10,
   "metadata": {},
   "outputs": [],
   "source": [
    "features = replacestrwithnan(features, 'แรกรับ : RR ')\n",
    "features = replacestrwithnan(features, 'แรกรับ O2 sat')\n",
    "features = replacestrwithnan(features, '11. PAD')\n",
    "features = replacestrwithnan(features, 'EF %')\n",
    "features = replacestrwithnan(features, 'Elevate Trop N')\n",
    "features = replacestrwithnan(features, 'No Elevate Trop N')"
   ]
  },
  {
   "cell_type": "code",
   "execution_count": 11,
   "metadata": {},
   "outputs": [],
   "source": [
    "features = fillnawithmean(features, 'แรกรับ : RR ')\n",
    "features = fillnawithmean(features, 'แรกรับ O2 sat')\n",
    "features = fillnawithmean(features, 'EF %')"
   ]
  },
  {
   "cell_type": "code",
   "execution_count": 12,
   "metadata": {},
   "outputs": [],
   "source": [
    "features['No Elevate Trop N'] = features['No Elevate Trop N'].fillna(1)\n",
    "features = features.fillna(0)"
   ]
  },
  {
   "cell_type": "code",
   "execution_count": 13,
   "metadata": {},
   "outputs": [
    {
     "data": {
      "text/plain": [
       "Index([], dtype='object')"
      ]
     },
     "metadata": {},
     "output_type": "display_data"
    }
   ],
   "source": [
    "string_columns = features.select_dtypes(include='object').columns\n",
    "display(string_columns)"
   ]
  },
  {
   "cell_type": "code",
   "execution_count": 14,
   "metadata": {},
   "outputs": [],
   "source": [
    "columns_dict = {}\n",
    "k = 1\n",
    "for i in selected_feather:\n",
    "    columns_dict[i] = k\n",
    "    k = k + 1\n",
    "\n",
    "# features = features.rename(columns=columns_dict)\n",
    "\n",
    "list_rename = ['age',\n",
    " 'hr',\n",
    " 'sbp',\n",
    " 'dbp',\n",
    " 'rr',\n",
    " 'o2sat',\n",
    " 'dm',\n",
    " 'ht',\n",
    " 'dlp',\n",
    " 'smoking',\n",
    " 'no_smoking',\n",
    " 'familia_hx',\n",
    " 'prior_mi',\n",
    " 'prior_hf',\n",
    " 'prior_pci',\n",
    " 'prior_cabg',\n",
    " 'cva',\n",
    " 'pad',\n",
    " 'copd',\n",
    " 'ckd_stage3',\n",
    " 'dialysis',\n",
    " 'cardiogenic_shock',\n",
    " 'hf',\n",
    " 'ett',\n",
    " 'no_ett',\n",
    " 'tachy_arrhy',\n",
    " 'af',\n",
    " 'svt',\n",
    " 'non_sus_vt',\n",
    " 'vt_vf',\n",
    " 'vt_vf_defib',\n",
    " 'cpr',\n",
    " 'brady_arrhy',\n",
    " 'chb',\n",
    " '2_av_block',\n",
    " 'on_ext_pace',\n",
    " 'on_tpm',\n",
    " 'echo',\n",
    " 'ef',\n",
    " 'elev_trop_t',\n",
    " 'no_elev_trop_t',\n",
    " 'killip_1',\n",
    " 'killip_2',\n",
    " 'killip_3',\n",
    " 'killip_4',\n",
    " 'death']\n",
    "\n",
    "features.columns = list_rename"
   ]
  },
  {
   "cell_type": "code",
   "execution_count": 15,
   "metadata": {},
   "outputs": [
    {
     "name": "stderr",
     "output_type": "stream",
     "text": [
      "c:\\Users\\User\\anaconda3\\lib\\site-packages\\xgboost\\compat.py:36: FutureWarning: pandas.Int64Index is deprecated and will be removed from pandas in a future version. Use pandas.Index with the appropriate dtype instead.\n",
      "  from pandas import MultiIndex, Int64Index\n"
     ]
    }
   ],
   "source": [
    "import xgboost as xgb\n",
    "from sklearn.model_selection import train_test_split\n",
    "from sklearn.model_selection import GridSearchCV\n",
    "from sklearn.metrics import mean_squared_error\n",
    "from sklearn.metrics import f1_score\n",
    "from sklearn.metrics import classification_report\n"
   ]
  },
  {
   "cell_type": "code",
   "execution_count": 33,
   "metadata": {},
   "outputs": [
    {
     "name": "stderr",
     "output_type": "stream",
     "text": [
      "c:\\Users\\User\\anaconda3\\lib\\site-packages\\xgboost\\sklearn.py:1224: UserWarning: The use of label encoder in XGBClassifier is deprecated and will be removed in a future release. To remove this warning, do the following: 1) Pass option use_label_encoder=False when constructing XGBClassifier object; and 2) Encode your labels (y) as integers starting with 0, i.e. 0, 1, 2, ..., [num_class - 1].\n",
      "  warnings.warn(label_encoder_deprecation_msg, UserWarning)\n",
      "c:\\Users\\User\\anaconda3\\lib\\site-packages\\xgboost\\data.py:250: FutureWarning: pandas.Int64Index is deprecated and will be removed from pandas in a future version. Use pandas.Index with the appropriate dtype instead.\n",
      "  elif isinstance(data.columns, (pd.Int64Index, pd.RangeIndex)):\n",
      "c:\\Users\\User\\anaconda3\\lib\\site-packages\\xgboost\\sklearn.py:1224: UserWarning: The use of label encoder in XGBClassifier is deprecated and will be removed in a future release. To remove this warning, do the following: 1) Pass option use_label_encoder=False when constructing XGBClassifier object; and 2) Encode your labels (y) as integers starting with 0, i.e. 0, 1, 2, ..., [num_class - 1].\n",
      "  warnings.warn(label_encoder_deprecation_msg, UserWarning)\n",
      "c:\\Users\\User\\anaconda3\\lib\\site-packages\\xgboost\\data.py:250: FutureWarning: pandas.Int64Index is deprecated and will be removed from pandas in a future version. Use pandas.Index with the appropriate dtype instead.\n",
      "  elif isinstance(data.columns, (pd.Int64Index, pd.RangeIndex)):\n",
      "c:\\Users\\User\\anaconda3\\lib\\site-packages\\xgboost\\sklearn.py:1224: UserWarning: The use of label encoder in XGBClassifier is deprecated and will be removed in a future release. To remove this warning, do the following: 1) Pass option use_label_encoder=False when constructing XGBClassifier object; and 2) Encode your labels (y) as integers starting with 0, i.e. 0, 1, 2, ..., [num_class - 1].\n",
      "  warnings.warn(label_encoder_deprecation_msg, UserWarning)\n",
      "c:\\Users\\User\\anaconda3\\lib\\site-packages\\xgboost\\data.py:250: FutureWarning: pandas.Int64Index is deprecated and will be removed from pandas in a future version. Use pandas.Index with the appropriate dtype instead.\n",
      "  elif isinstance(data.columns, (pd.Int64Index, pd.RangeIndex)):\n",
      "c:\\Users\\User\\anaconda3\\lib\\site-packages\\xgboost\\sklearn.py:1224: UserWarning: The use of label encoder in XGBClassifier is deprecated and will be removed in a future release. To remove this warning, do the following: 1) Pass option use_label_encoder=False when constructing XGBClassifier object; and 2) Encode your labels (y) as integers starting with 0, i.e. 0, 1, 2, ..., [num_class - 1].\n",
      "  warnings.warn(label_encoder_deprecation_msg, UserWarning)\n",
      "c:\\Users\\User\\anaconda3\\lib\\site-packages\\xgboost\\data.py:250: FutureWarning: pandas.Int64Index is deprecated and will be removed from pandas in a future version. Use pandas.Index with the appropriate dtype instead.\n",
      "  elif isinstance(data.columns, (pd.Int64Index, pd.RangeIndex)):\n",
      "c:\\Users\\User\\anaconda3\\lib\\site-packages\\xgboost\\sklearn.py:1224: UserWarning: The use of label encoder in XGBClassifier is deprecated and will be removed in a future release. To remove this warning, do the following: 1) Pass option use_label_encoder=False when constructing XGBClassifier object; and 2) Encode your labels (y) as integers starting with 0, i.e. 0, 1, 2, ..., [num_class - 1].\n",
      "  warnings.warn(label_encoder_deprecation_msg, UserWarning)\n",
      "c:\\Users\\User\\anaconda3\\lib\\site-packages\\xgboost\\data.py:250: FutureWarning: pandas.Int64Index is deprecated and will be removed from pandas in a future version. Use pandas.Index with the appropriate dtype instead.\n",
      "  elif isinstance(data.columns, (pd.Int64Index, pd.RangeIndex)):\n",
      "c:\\Users\\User\\anaconda3\\lib\\site-packages\\xgboost\\sklearn.py:1224: UserWarning: The use of label encoder in XGBClassifier is deprecated and will be removed in a future release. To remove this warning, do the following: 1) Pass option use_label_encoder=False when constructing XGBClassifier object; and 2) Encode your labels (y) as integers starting with 0, i.e. 0, 1, 2, ..., [num_class - 1].\n",
      "  warnings.warn(label_encoder_deprecation_msg, UserWarning)\n",
      "c:\\Users\\User\\anaconda3\\lib\\site-packages\\xgboost\\data.py:250: FutureWarning: pandas.Int64Index is deprecated and will be removed from pandas in a future version. Use pandas.Index with the appropriate dtype instead.\n",
      "  elif isinstance(data.columns, (pd.Int64Index, pd.RangeIndex)):\n",
      "c:\\Users\\User\\anaconda3\\lib\\site-packages\\xgboost\\sklearn.py:1224: UserWarning: The use of label encoder in XGBClassifier is deprecated and will be removed in a future release. To remove this warning, do the following: 1) Pass option use_label_encoder=False when constructing XGBClassifier object; and 2) Encode your labels (y) as integers starting with 0, i.e. 0, 1, 2, ..., [num_class - 1].\n",
      "  warnings.warn(label_encoder_deprecation_msg, UserWarning)\n"
     ]
    },
    {
     "name": "stdout",
     "output_type": "stream",
     "text": [
      "[20:18:35] WARNING: C:\\Windows\\Temp\\abs_557yfx631l\\croots\\recipe\\xgboost-split_1659548953302\\work\\src\\learner.cc:1115: Starting in XGBoost 1.3.0, the default evaluation metric used with the objective 'binary:logistic' was changed from 'error' to 'logloss'. Explicitly set eval_metric if you'd like to restore the old behavior.\n",
      "[20:18:35] WARNING: C:\\Windows\\Temp\\abs_557yfx631l\\croots\\recipe\\xgboost-split_1659548953302\\work\\src\\learner.cc:1115: Starting in XGBoost 1.3.0, the default evaluation metric used with the objective 'binary:logistic' was changed from 'error' to 'logloss'. Explicitly set eval_metric if you'd like to restore the old behavior.\n",
      "[20:18:35] WARNING: C:\\Windows\\Temp\\abs_557yfx631l\\croots\\recipe\\xgboost-split_1659548953302\\work\\src\\learner.cc:1115: Starting in XGBoost 1.3.0, the default evaluation metric used with the objective 'binary:logistic' was changed from 'error' to 'logloss'. Explicitly set eval_metric if you'd like to restore the old behavior.\n",
      "[20:18:35] WARNING: C:\\Windows\\Temp\\abs_557yfx631l\\croots\\recipe\\xgboost-split_1659548953302\\work\\src\\learner.cc:1115: Starting in XGBoost 1.3.0, the default evaluation metric used with the objective 'binary:logistic' was changed from 'error' to 'logloss'. Explicitly set eval_metric if you'd like to restore the old behavior.\n",
      "[20:18:35] WARNING: C:\\Windows\\Temp\\abs_557yfx631l\\croots\\recipe\\xgboost-split_1659548953302\\work\\src\\learner.cc:1115: Starting in XGBoost 1.3.0, the default evaluation metric used with the objective 'binary:logistic' was changed from 'error' to 'logloss'. Explicitly set eval_metric if you'd like to restore the old behavior.\n",
      "[20:18:35] WARNING: C:\\Windows\\Temp\\abs_557yfx631l\\croots\\recipe\\xgboost-split_1659548953302\\work\\src\\learner.cc:1115: Starting in XGBoost 1.3.0, the default evaluation metric used with the objective 'binary:logistic' was changed from 'error' to 'logloss'. Explicitly set eval_metric if you'd like to restore the old behavior.\n"
     ]
    },
    {
     "name": "stderr",
     "output_type": "stream",
     "text": [
      "c:\\Users\\User\\anaconda3\\lib\\site-packages\\xgboost\\data.py:250: FutureWarning: pandas.Int64Index is deprecated and will be removed from pandas in a future version. Use pandas.Index with the appropriate dtype instead.\n",
      "  elif isinstance(data.columns, (pd.Int64Index, pd.RangeIndex)):\n",
      "c:\\Users\\User\\anaconda3\\lib\\site-packages\\xgboost\\sklearn.py:1224: UserWarning: The use of label encoder in XGBClassifier is deprecated and will be removed in a future release. To remove this warning, do the following: 1) Pass option use_label_encoder=False when constructing XGBClassifier object; and 2) Encode your labels (y) as integers starting with 0, i.e. 0, 1, 2, ..., [num_class - 1].\n",
      "  warnings.warn(label_encoder_deprecation_msg, UserWarning)\n",
      "c:\\Users\\User\\anaconda3\\lib\\site-packages\\xgboost\\data.py:250: FutureWarning: pandas.Int64Index is deprecated and will be removed from pandas in a future version. Use pandas.Index with the appropriate dtype instead.\n",
      "  elif isinstance(data.columns, (pd.Int64Index, pd.RangeIndex)):\n",
      "c:\\Users\\User\\anaconda3\\lib\\site-packages\\xgboost\\sklearn.py:1224: UserWarning: The use of label encoder in XGBClassifier is deprecated and will be removed in a future release. To remove this warning, do the following: 1) Pass option use_label_encoder=False when constructing XGBClassifier object; and 2) Encode your labels (y) as integers starting with 0, i.e. 0, 1, 2, ..., [num_class - 1].\n",
      "  warnings.warn(label_encoder_deprecation_msg, UserWarning)\n",
      "c:\\Users\\User\\anaconda3\\lib\\site-packages\\xgboost\\data.py:250: FutureWarning: pandas.Int64Index is deprecated and will be removed from pandas in a future version. Use pandas.Index with the appropriate dtype instead.\n",
      "  elif isinstance(data.columns, (pd.Int64Index, pd.RangeIndex)):\n",
      "c:\\Users\\User\\anaconda3\\lib\\site-packages\\xgboost\\sklearn.py:1224: UserWarning: The use of label encoder in XGBClassifier is deprecated and will be removed in a future release. To remove this warning, do the following: 1) Pass option use_label_encoder=False when constructing XGBClassifier object; and 2) Encode your labels (y) as integers starting with 0, i.e. 0, 1, 2, ..., [num_class - 1].\n",
      "  warnings.warn(label_encoder_deprecation_msg, UserWarning)\n",
      "c:\\Users\\User\\anaconda3\\lib\\site-packages\\xgboost\\data.py:250: FutureWarning: pandas.Int64Index is deprecated and will be removed from pandas in a future version. Use pandas.Index with the appropriate dtype instead.\n",
      "  elif isinstance(data.columns, (pd.Int64Index, pd.RangeIndex)):\n",
      "c:\\Users\\User\\anaconda3\\lib\\site-packages\\xgboost\\sklearn.py:1224: UserWarning: The use of label encoder in XGBClassifier is deprecated and will be removed in a future release. To remove this warning, do the following: 1) Pass option use_label_encoder=False when constructing XGBClassifier object; and 2) Encode your labels (y) as integers starting with 0, i.e. 0, 1, 2, ..., [num_class - 1].\n",
      "  warnings.warn(label_encoder_deprecation_msg, UserWarning)\n",
      "c:\\Users\\User\\anaconda3\\lib\\site-packages\\xgboost\\data.py:250: FutureWarning: pandas.Int64Index is deprecated and will be removed from pandas in a future version. Use pandas.Index with the appropriate dtype instead.\n",
      "  elif isinstance(data.columns, (pd.Int64Index, pd.RangeIndex)):\n"
     ]
    },
    {
     "name": "stdout",
     "output_type": "stream",
     "text": [
      "[20:18:35] WARNING: C:\\Windows\\Temp\\abs_557yfx631l\\croots\\recipe\\xgboost-split_1659548953302\\work\\src\\learner.cc:1115: Starting in XGBoost 1.3.0, the default evaluation metric used with the objective 'binary:logistic' was changed from 'error' to 'logloss'. Explicitly set eval_metric if you'd like to restore the old behavior.\n",
      "[20:18:35] WARNING: C:\\Windows\\Temp\\abs_557yfx631l\\croots\\recipe\\xgboost-split_1659548953302\\work\\src\\learner.cc:1115: Starting in XGBoost 1.3.0, the default evaluation metric used with the objective 'binary:logistic' was changed from 'error' to 'logloss'. Explicitly set eval_metric if you'd like to restore the old behavior.\n",
      "[20:18:35] WARNING: C:\\Windows\\Temp\\abs_557yfx631l\\croots\\recipe\\xgboost-split_1659548953302\\work\\src\\learner.cc:1115: Starting in XGBoost 1.3.0, the default evaluation metric used with the objective 'binary:logistic' was changed from 'error' to 'logloss'. Explicitly set eval_metric if you'd like to restore the old behavior.\n",
      "[20:18:35] WARNING: C:\\Windows\\Temp\\abs_557yfx631l\\croots\\recipe\\xgboost-split_1659548953302\\work\\src\\learner.cc:1115: Starting in XGBoost 1.3.0, the default evaluation metric used with the objective 'binary:logistic' was changed from 'error' to 'logloss'. Explicitly set eval_metric if you'd like to restore the old behavior.\n",
      "[20:18:36] WARNING: C:\\Windows\\Temp\\abs_557yfx631l\\croots\\recipe\\xgboost-split_1659548953302\\work\\src\\learner.cc:1115: Starting in XGBoost 1.3.0, the default evaluation metric used with the objective 'binary:logistic' was changed from 'error' to 'logloss'. Explicitly set eval_metric if you'd like to restore the old behavior.\n"
     ]
    },
    {
     "name": "stderr",
     "output_type": "stream",
     "text": [
      "c:\\Users\\User\\anaconda3\\lib\\site-packages\\xgboost\\sklearn.py:1224: UserWarning: The use of label encoder in XGBClassifier is deprecated and will be removed in a future release. To remove this warning, do the following: 1) Pass option use_label_encoder=False when constructing XGBClassifier object; and 2) Encode your labels (y) as integers starting with 0, i.e. 0, 1, 2, ..., [num_class - 1].\n",
      "  warnings.warn(label_encoder_deprecation_msg, UserWarning)\n",
      "c:\\Users\\User\\anaconda3\\lib\\site-packages\\xgboost\\data.py:250: FutureWarning: pandas.Int64Index is deprecated and will be removed from pandas in a future version. Use pandas.Index with the appropriate dtype instead.\n",
      "  elif isinstance(data.columns, (pd.Int64Index, pd.RangeIndex)):\n",
      "c:\\Users\\User\\anaconda3\\lib\\site-packages\\xgboost\\sklearn.py:1224: UserWarning: The use of label encoder in XGBClassifier is deprecated and will be removed in a future release. To remove this warning, do the following: 1) Pass option use_label_encoder=False when constructing XGBClassifier object; and 2) Encode your labels (y) as integers starting with 0, i.e. 0, 1, 2, ..., [num_class - 1].\n",
      "  warnings.warn(label_encoder_deprecation_msg, UserWarning)\n",
      "c:\\Users\\User\\anaconda3\\lib\\site-packages\\xgboost\\data.py:250: FutureWarning: pandas.Int64Index is deprecated and will be removed from pandas in a future version. Use pandas.Index with the appropriate dtype instead.\n",
      "  elif isinstance(data.columns, (pd.Int64Index, pd.RangeIndex)):\n",
      "c:\\Users\\User\\anaconda3\\lib\\site-packages\\xgboost\\sklearn.py:1224: UserWarning: The use of label encoder in XGBClassifier is deprecated and will be removed in a future release. To remove this warning, do the following: 1) Pass option use_label_encoder=False when constructing XGBClassifier object; and 2) Encode your labels (y) as integers starting with 0, i.e. 0, 1, 2, ..., [num_class - 1].\n",
      "  warnings.warn(label_encoder_deprecation_msg, UserWarning)\n",
      "c:\\Users\\User\\anaconda3\\lib\\site-packages\\xgboost\\data.py:250: FutureWarning: pandas.Int64Index is deprecated and will be removed from pandas in a future version. Use pandas.Index with the appropriate dtype instead.\n",
      "  elif isinstance(data.columns, (pd.Int64Index, pd.RangeIndex)):\n"
     ]
    },
    {
     "name": "stdout",
     "output_type": "stream",
     "text": [
      "[20:18:36] WARNING: C:\\Windows\\Temp\\abs_557yfx631l\\croots\\recipe\\xgboost-split_1659548953302\\work\\src\\learner.cc:1115: Starting in XGBoost 1.3.0, the default evaluation metric used with the objective 'binary:logistic' was changed from 'error' to 'logloss'. Explicitly set eval_metric if you'd like to restore the old behavior.\n",
      "[20:18:36] WARNING: C:\\Windows\\Temp\\abs_557yfx631l\\croots\\recipe\\xgboost-split_1659548953302\\work\\src\\learner.cc:1115: Starting in XGBoost 1.3.0, the default evaluation metric used with the objective 'binary:logistic' was changed from 'error' to 'logloss'. Explicitly set eval_metric if you'd like to restore the old behavior.\n",
      "[20:18:36] WARNING: C:\\Windows\\Temp\\abs_557yfx631l\\croots\\recipe\\xgboost-split_1659548953302\\work\\src\\learner.cc:1115: Starting in XGBoost 1.3.0, the default evaluation metric used with the objective 'binary:logistic' was changed from 'error' to 'logloss'. Explicitly set eval_metric if you'd like to restore the old behavior.\n"
     ]
    },
    {
     "name": "stderr",
     "output_type": "stream",
     "text": [
      "c:\\Users\\User\\anaconda3\\lib\\site-packages\\xgboost\\sklearn.py:1224: UserWarning: The use of label encoder in XGBClassifier is deprecated and will be removed in a future release. To remove this warning, do the following: 1) Pass option use_label_encoder=False when constructing XGBClassifier object; and 2) Encode your labels (y) as integers starting with 0, i.e. 0, 1, 2, ..., [num_class - 1].\n",
      "  warnings.warn(label_encoder_deprecation_msg, UserWarning)\n",
      "c:\\Users\\User\\anaconda3\\lib\\site-packages\\xgboost\\data.py:250: FutureWarning: pandas.Int64Index is deprecated and will be removed from pandas in a future version. Use pandas.Index with the appropriate dtype instead.\n",
      "  elif isinstance(data.columns, (pd.Int64Index, pd.RangeIndex)):\n",
      "c:\\Users\\User\\anaconda3\\lib\\site-packages\\xgboost\\sklearn.py:1224: UserWarning: The use of label encoder in XGBClassifier is deprecated and will be removed in a future release. To remove this warning, do the following: 1) Pass option use_label_encoder=False when constructing XGBClassifier object; and 2) Encode your labels (y) as integers starting with 0, i.e. 0, 1, 2, ..., [num_class - 1].\n",
      "  warnings.warn(label_encoder_deprecation_msg, UserWarning)\n",
      "c:\\Users\\User\\anaconda3\\lib\\site-packages\\xgboost\\data.py:250: FutureWarning: pandas.Int64Index is deprecated and will be removed from pandas in a future version. Use pandas.Index with the appropriate dtype instead.\n",
      "  elif isinstance(data.columns, (pd.Int64Index, pd.RangeIndex)):\n",
      "c:\\Users\\User\\anaconda3\\lib\\site-packages\\xgboost\\sklearn.py:1224: UserWarning: The use of label encoder in XGBClassifier is deprecated and will be removed in a future release. To remove this warning, do the following: 1) Pass option use_label_encoder=False when constructing XGBClassifier object; and 2) Encode your labels (y) as integers starting with 0, i.e. 0, 1, 2, ..., [num_class - 1].\n",
      "  warnings.warn(label_encoder_deprecation_msg, UserWarning)\n",
      "c:\\Users\\User\\anaconda3\\lib\\site-packages\\xgboost\\data.py:250: FutureWarning: pandas.Int64Index is deprecated and will be removed from pandas in a future version. Use pandas.Index with the appropriate dtype instead.\n",
      "  elif isinstance(data.columns, (pd.Int64Index, pd.RangeIndex)):\n",
      "c:\\Users\\User\\anaconda3\\lib\\site-packages\\xgboost\\sklearn.py:1224: UserWarning: The use of label encoder in XGBClassifier is deprecated and will be removed in a future release. To remove this warning, do the following: 1) Pass option use_label_encoder=False when constructing XGBClassifier object; and 2) Encode your labels (y) as integers starting with 0, i.e. 0, 1, 2, ..., [num_class - 1].\n",
      "  warnings.warn(label_encoder_deprecation_msg, UserWarning)\n",
      "c:\\Users\\User\\anaconda3\\lib\\site-packages\\xgboost\\data.py:250: FutureWarning: pandas.Int64Index is deprecated and will be removed from pandas in a future version. Use pandas.Index with the appropriate dtype instead.\n",
      "  elif isinstance(data.columns, (pd.Int64Index, pd.RangeIndex)):\n",
      "c:\\Users\\User\\anaconda3\\lib\\site-packages\\xgboost\\sklearn.py:1224: UserWarning: The use of label encoder in XGBClassifier is deprecated and will be removed in a future release. To remove this warning, do the following: 1) Pass option use_label_encoder=False when constructing XGBClassifier object; and 2) Encode your labels (y) as integers starting with 0, i.e. 0, 1, 2, ..., [num_class - 1].\n",
      "  warnings.warn(label_encoder_deprecation_msg, UserWarning)\n",
      "c:\\Users\\User\\anaconda3\\lib\\site-packages\\xgboost\\data.py:250: FutureWarning: pandas.Int64Index is deprecated and will be removed from pandas in a future version. Use pandas.Index with the appropriate dtype instead.\n",
      "  elif isinstance(data.columns, (pd.Int64Index, pd.RangeIndex)):\n"
     ]
    },
    {
     "name": "stdout",
     "output_type": "stream",
     "text": [
      "[20:18:36] WARNING: C:\\Windows\\Temp\\abs_557yfx631l\\croots\\recipe\\xgboost-split_1659548953302\\work\\src\\learner.cc:1115: Starting in XGBoost 1.3.0, the default evaluation metric used with the objective 'binary:logistic' was changed from 'error' to 'logloss'. Explicitly set eval_metric if you'd like to restore the old behavior.\n",
      "[20:18:36] WARNING: C:\\Windows\\Temp\\abs_557yfx631l\\croots\\recipe\\xgboost-split_1659548953302\\work\\src\\learner.cc:1115: Starting in XGBoost 1.3.0, the default evaluation metric used with the objective 'binary:logistic' was changed from 'error' to 'logloss'. Explicitly set eval_metric if you'd like to restore the old behavior.\n",
      "[20:18:36] WARNING: C:\\Windows\\Temp\\abs_557yfx631l\\croots\\recipe\\xgboost-split_1659548953302\\work\\src\\learner.cc:1115: Starting in XGBoost 1.3.0, the default evaluation metric used with the objective 'binary:logistic' was changed from 'error' to 'logloss'. Explicitly set eval_metric if you'd like to restore the old behavior.\n",
      "[20:18:36] WARNING: C:\\Windows\\Temp\\abs_557yfx631l\\croots\\recipe\\xgboost-split_1659548953302\\work\\src\\learner.cc:1115: Starting in XGBoost 1.3.0, the default evaluation metric used with the objective 'binary:logistic' was changed from 'error' to 'logloss'. Explicitly set eval_metric if you'd like to restore the old behavior.\n",
      "[20:18:36] WARNING: C:\\Windows\\Temp\\abs_557yfx631l\\croots\\recipe\\xgboost-split_1659548953302\\work\\src\\learner.cc:1115: Starting in XGBoost 1.3.0, the default evaluation metric used with the objective 'binary:logistic' was changed from 'error' to 'logloss'. Explicitly set eval_metric if you'd like to restore the old behavior.\n"
     ]
    },
    {
     "name": "stderr",
     "output_type": "stream",
     "text": [
      "c:\\Users\\User\\anaconda3\\lib\\site-packages\\xgboost\\sklearn.py:1224: UserWarning: The use of label encoder in XGBClassifier is deprecated and will be removed in a future release. To remove this warning, do the following: 1) Pass option use_label_encoder=False when constructing XGBClassifier object; and 2) Encode your labels (y) as integers starting with 0, i.e. 0, 1, 2, ..., [num_class - 1].\n",
      "  warnings.warn(label_encoder_deprecation_msg, UserWarning)\n",
      "c:\\Users\\User\\anaconda3\\lib\\site-packages\\xgboost\\data.py:250: FutureWarning: pandas.Int64Index is deprecated and will be removed from pandas in a future version. Use pandas.Index with the appropriate dtype instead.\n",
      "  elif isinstance(data.columns, (pd.Int64Index, pd.RangeIndex)):\n",
      "c:\\Users\\User\\anaconda3\\lib\\site-packages\\xgboost\\sklearn.py:1224: UserWarning: The use of label encoder in XGBClassifier is deprecated and will be removed in a future release. To remove this warning, do the following: 1) Pass option use_label_encoder=False when constructing XGBClassifier object; and 2) Encode your labels (y) as integers starting with 0, i.e. 0, 1, 2, ..., [num_class - 1].\n",
      "  warnings.warn(label_encoder_deprecation_msg, UserWarning)\n",
      "c:\\Users\\User\\anaconda3\\lib\\site-packages\\xgboost\\data.py:250: FutureWarning: pandas.Int64Index is deprecated and will be removed from pandas in a future version. Use pandas.Index with the appropriate dtype instead.\n",
      "  elif isinstance(data.columns, (pd.Int64Index, pd.RangeIndex)):\n",
      "c:\\Users\\User\\anaconda3\\lib\\site-packages\\xgboost\\sklearn.py:1224: UserWarning: The use of label encoder in XGBClassifier is deprecated and will be removed in a future release. To remove this warning, do the following: 1) Pass option use_label_encoder=False when constructing XGBClassifier object; and 2) Encode your labels (y) as integers starting with 0, i.e. 0, 1, 2, ..., [num_class - 1].\n",
      "  warnings.warn(label_encoder_deprecation_msg, UserWarning)\n",
      "c:\\Users\\User\\anaconda3\\lib\\site-packages\\xgboost\\data.py:250: FutureWarning: pandas.Int64Index is deprecated and will be removed from pandas in a future version. Use pandas.Index with the appropriate dtype instead.\n",
      "  elif isinstance(data.columns, (pd.Int64Index, pd.RangeIndex)):\n",
      "c:\\Users\\User\\anaconda3\\lib\\site-packages\\xgboost\\sklearn.py:1224: UserWarning: The use of label encoder in XGBClassifier is deprecated and will be removed in a future release. To remove this warning, do the following: 1) Pass option use_label_encoder=False when constructing XGBClassifier object; and 2) Encode your labels (y) as integers starting with 0, i.e. 0, 1, 2, ..., [num_class - 1].\n",
      "  warnings.warn(label_encoder_deprecation_msg, UserWarning)\n",
      "c:\\Users\\User\\anaconda3\\lib\\site-packages\\xgboost\\data.py:250: FutureWarning: pandas.Int64Index is deprecated and will be removed from pandas in a future version. Use pandas.Index with the appropriate dtype instead.\n",
      "  elif isinstance(data.columns, (pd.Int64Index, pd.RangeIndex)):\n",
      "c:\\Users\\User\\anaconda3\\lib\\site-packages\\xgboost\\sklearn.py:1224: UserWarning: The use of label encoder in XGBClassifier is deprecated and will be removed in a future release. To remove this warning, do the following: 1) Pass option use_label_encoder=False when constructing XGBClassifier object; and 2) Encode your labels (y) as integers starting with 0, i.e. 0, 1, 2, ..., [num_class - 1].\n",
      "  warnings.warn(label_encoder_deprecation_msg, UserWarning)\n"
     ]
    },
    {
     "name": "stdout",
     "output_type": "stream",
     "text": [
      "[20:18:36] WARNING: C:\\Windows\\Temp\\abs_557yfx631l\\croots\\recipe\\xgboost-split_1659548953302\\work\\src\\learner.cc:1115: Starting in XGBoost 1.3.0, the default evaluation metric used with the objective 'binary:logistic' was changed from 'error' to 'logloss'. Explicitly set eval_metric if you'd like to restore the old behavior.\n",
      "[20:18:36] WARNING: C:\\Windows\\Temp\\abs_557yfx631l\\croots\\recipe\\xgboost-split_1659548953302\\work\\src\\learner.cc:1115: Starting in XGBoost 1.3.0, the default evaluation metric used with the objective 'binary:logistic' was changed from 'error' to 'logloss'. Explicitly set eval_metric if you'd like to restore the old behavior.\n",
      "[20:18:36] WARNING: C:\\Windows\\Temp\\abs_557yfx631l\\croots\\recipe\\xgboost-split_1659548953302\\work\\src\\learner.cc:1115: Starting in XGBoost 1.3.0, the default evaluation metric used with the objective 'binary:logistic' was changed from 'error' to 'logloss'. Explicitly set eval_metric if you'd like to restore the old behavior.\n",
      "[20:18:36] WARNING: C:\\Windows\\Temp\\abs_557yfx631l\\croots\\recipe\\xgboost-split_1659548953302\\work\\src\\learner.cc:1115: Starting in XGBoost 1.3.0, the default evaluation metric used with the objective 'binary:logistic' was changed from 'error' to 'logloss'. Explicitly set eval_metric if you'd like to restore the old behavior.\n"
     ]
    },
    {
     "name": "stderr",
     "output_type": "stream",
     "text": [
      "c:\\Users\\User\\anaconda3\\lib\\site-packages\\xgboost\\data.py:250: FutureWarning: pandas.Int64Index is deprecated and will be removed from pandas in a future version. Use pandas.Index with the appropriate dtype instead.\n",
      "  elif isinstance(data.columns, (pd.Int64Index, pd.RangeIndex)):\n",
      "c:\\Users\\User\\anaconda3\\lib\\site-packages\\xgboost\\sklearn.py:1224: UserWarning: The use of label encoder in XGBClassifier is deprecated and will be removed in a future release. To remove this warning, do the following: 1) Pass option use_label_encoder=False when constructing XGBClassifier object; and 2) Encode your labels (y) as integers starting with 0, i.e. 0, 1, 2, ..., [num_class - 1].\n",
      "  warnings.warn(label_encoder_deprecation_msg, UserWarning)\n",
      "c:\\Users\\User\\anaconda3\\lib\\site-packages\\xgboost\\data.py:250: FutureWarning: pandas.Int64Index is deprecated and will be removed from pandas in a future version. Use pandas.Index with the appropriate dtype instead.\n",
      "  elif isinstance(data.columns, (pd.Int64Index, pd.RangeIndex)):\n",
      "c:\\Users\\User\\anaconda3\\lib\\site-packages\\xgboost\\sklearn.py:1224: UserWarning: The use of label encoder in XGBClassifier is deprecated and will be removed in a future release. To remove this warning, do the following: 1) Pass option use_label_encoder=False when constructing XGBClassifier object; and 2) Encode your labels (y) as integers starting with 0, i.e. 0, 1, 2, ..., [num_class - 1].\n",
      "  warnings.warn(label_encoder_deprecation_msg, UserWarning)\n",
      "c:\\Users\\User\\anaconda3\\lib\\site-packages\\xgboost\\data.py:250: FutureWarning: pandas.Int64Index is deprecated and will be removed from pandas in a future version. Use pandas.Index with the appropriate dtype instead.\n",
      "  elif isinstance(data.columns, (pd.Int64Index, pd.RangeIndex)):\n",
      "c:\\Users\\User\\anaconda3\\lib\\site-packages\\xgboost\\sklearn.py:1224: UserWarning: The use of label encoder in XGBClassifier is deprecated and will be removed in a future release. To remove this warning, do the following: 1) Pass option use_label_encoder=False when constructing XGBClassifier object; and 2) Encode your labels (y) as integers starting with 0, i.e. 0, 1, 2, ..., [num_class - 1].\n",
      "  warnings.warn(label_encoder_deprecation_msg, UserWarning)\n",
      "c:\\Users\\User\\anaconda3\\lib\\site-packages\\xgboost\\data.py:250: FutureWarning: pandas.Int64Index is deprecated and will be removed from pandas in a future version. Use pandas.Index with the appropriate dtype instead.\n",
      "  elif isinstance(data.columns, (pd.Int64Index, pd.RangeIndex)):\n"
     ]
    },
    {
     "name": "stdout",
     "output_type": "stream",
     "text": [
      "[20:18:36] WARNING: C:\\Windows\\Temp\\abs_557yfx631l\\croots\\recipe\\xgboost-split_1659548953302\\work\\src\\learner.cc:1115: Starting in XGBoost 1.3.0, the default evaluation metric used with the objective 'binary:logistic' was changed from 'error' to 'logloss'. Explicitly set eval_metric if you'd like to restore the old behavior.\n",
      "[20:18:36] WARNING: C:\\Windows\\Temp\\abs_557yfx631l\\croots\\recipe\\xgboost-split_1659548953302\\work\\src\\learner.cc:1115: Starting in XGBoost 1.3.0, the default evaluation metric used with the objective 'binary:logistic' was changed from 'error' to 'logloss'. Explicitly set eval_metric if you'd like to restore the old behavior.\n",
      "[20:18:36] WARNING: C:\\Windows\\Temp\\abs_557yfx631l\\croots\\recipe\\xgboost-split_1659548953302\\work\\src\\learner.cc:1115: Starting in XGBoost 1.3.0, the default evaluation metric used with the objective 'binary:logistic' was changed from 'error' to 'logloss'. Explicitly set eval_metric if you'd like to restore the old behavior.\n",
      "[20:18:36] WARNING: C:\\Windows\\Temp\\abs_557yfx631l\\croots\\recipe\\xgboost-split_1659548953302\\work\\src\\learner.cc:1115: Starting in XGBoost 1.3.0, the default evaluation metric used with the objective 'binary:logistic' was changed from 'error' to 'logloss'. Explicitly set eval_metric if you'd like to restore the old behavior.\n",
      "[20:18:37] WARNING: C:\\Windows\\Temp\\abs_557yfx631l\\croots\\recipe\\xgboost-split_1659548953302\\work\\src\\learner.cc:1115: Starting in XGBoost 1.3.0, the default evaluation metric used with the objective 'binary:logistic' was changed from 'error' to 'logloss'. Explicitly set eval_metric if you'd like to restore the old behavior.\n",
      "[20:18:37] WARNING: C:\\Windows\\Temp\\abs_557yfx631l\\croots\\recipe\\xgboost-split_1659548953302\\work\\src\\learner.cc:1115: Starting in XGBoost 1.3.0, the default evaluation metric used with the objective 'binary:logistic' was changed from 'error' to 'logloss'. Explicitly set eval_metric if you'd like to restore the old behavior.\n"
     ]
    },
    {
     "name": "stderr",
     "output_type": "stream",
     "text": [
      "c:\\Users\\User\\anaconda3\\lib\\site-packages\\xgboost\\sklearn.py:1224: UserWarning: The use of label encoder in XGBClassifier is deprecated and will be removed in a future release. To remove this warning, do the following: 1) Pass option use_label_encoder=False when constructing XGBClassifier object; and 2) Encode your labels (y) as integers starting with 0, i.e. 0, 1, 2, ..., [num_class - 1].\n",
      "  warnings.warn(label_encoder_deprecation_msg, UserWarning)\n",
      "c:\\Users\\User\\anaconda3\\lib\\site-packages\\xgboost\\data.py:250: FutureWarning: pandas.Int64Index is deprecated and will be removed from pandas in a future version. Use pandas.Index with the appropriate dtype instead.\n",
      "  elif isinstance(data.columns, (pd.Int64Index, pd.RangeIndex)):\n",
      "c:\\Users\\User\\anaconda3\\lib\\site-packages\\xgboost\\sklearn.py:1224: UserWarning: The use of label encoder in XGBClassifier is deprecated and will be removed in a future release. To remove this warning, do the following: 1) Pass option use_label_encoder=False when constructing XGBClassifier object; and 2) Encode your labels (y) as integers starting with 0, i.e. 0, 1, 2, ..., [num_class - 1].\n",
      "  warnings.warn(label_encoder_deprecation_msg, UserWarning)\n",
      "c:\\Users\\User\\anaconda3\\lib\\site-packages\\xgboost\\data.py:250: FutureWarning: pandas.Int64Index is deprecated and will be removed from pandas in a future version. Use pandas.Index with the appropriate dtype instead.\n",
      "  elif isinstance(data.columns, (pd.Int64Index, pd.RangeIndex)):\n",
      "c:\\Users\\User\\anaconda3\\lib\\site-packages\\xgboost\\sklearn.py:1224: UserWarning: The use of label encoder in XGBClassifier is deprecated and will be removed in a future release. To remove this warning, do the following: 1) Pass option use_label_encoder=False when constructing XGBClassifier object; and 2) Encode your labels (y) as integers starting with 0, i.e. 0, 1, 2, ..., [num_class - 1].\n",
      "  warnings.warn(label_encoder_deprecation_msg, UserWarning)\n",
      "c:\\Users\\User\\anaconda3\\lib\\site-packages\\xgboost\\data.py:250: FutureWarning: pandas.Int64Index is deprecated and will be removed from pandas in a future version. Use pandas.Index with the appropriate dtype instead.\n",
      "  elif isinstance(data.columns, (pd.Int64Index, pd.RangeIndex)):\n"
     ]
    },
    {
     "name": "stdout",
     "output_type": "stream",
     "text": [
      "[20:18:37] WARNING: C:\\Windows\\Temp\\abs_557yfx631l\\croots\\recipe\\xgboost-split_1659548953302\\work\\src\\learner.cc:1115: Starting in XGBoost 1.3.0, the default evaluation metric used with the objective 'binary:logistic' was changed from 'error' to 'logloss'. Explicitly set eval_metric if you'd like to restore the old behavior.\n",
      "[20:18:37] WARNING: C:\\Windows\\Temp\\abs_557yfx631l\\croots\\recipe\\xgboost-split_1659548953302\\work\\src\\learner.cc:1115: Starting in XGBoost 1.3.0, the default evaluation metric used with the objective 'binary:logistic' was changed from 'error' to 'logloss'. Explicitly set eval_metric if you'd like to restore the old behavior.\n",
      "[20:18:37] WARNING: C:\\Windows\\Temp\\abs_557yfx631l\\croots\\recipe\\xgboost-split_1659548953302\\work\\src\\learner.cc:1115: Starting in XGBoost 1.3.0, the default evaluation metric used with the objective 'binary:logistic' was changed from 'error' to 'logloss'. Explicitly set eval_metric if you'd like to restore the old behavior.\n",
      "[20:18:37] WARNING: C:\\Windows\\Temp\\abs_557yfx631l\\croots\\recipe\\xgboost-split_1659548953302\\work\\src\\learner.cc:1115: Starting in XGBoost 1.3.0, the default evaluation metric used with the objective 'binary:logistic' was changed from 'error' to 'logloss'. Explicitly set eval_metric if you'd like to restore the old behavior.\n",
      "[20:18:37] WARNING: C:\\Windows\\Temp\\abs_557yfx631l\\croots\\recipe\\xgboost-split_1659548953302\\work\\src\\learner.cc:1115: Starting in XGBoost 1.3.0, the default evaluation metric used with the objective 'binary:logistic' was changed from 'error' to 'logloss'. Explicitly set eval_metric if you'd like to restore the old behavior.\n"
     ]
    },
    {
     "name": "stderr",
     "output_type": "stream",
     "text": [
      "c:\\Users\\User\\anaconda3\\lib\\site-packages\\xgboost\\sklearn.py:1224: UserWarning: The use of label encoder in XGBClassifier is deprecated and will be removed in a future release. To remove this warning, do the following: 1) Pass option use_label_encoder=False when constructing XGBClassifier object; and 2) Encode your labels (y) as integers starting with 0, i.e. 0, 1, 2, ..., [num_class - 1].\n",
      "  warnings.warn(label_encoder_deprecation_msg, UserWarning)\n",
      "c:\\Users\\User\\anaconda3\\lib\\site-packages\\xgboost\\data.py:250: FutureWarning: pandas.Int64Index is deprecated and will be removed from pandas in a future version. Use pandas.Index with the appropriate dtype instead.\n",
      "  elif isinstance(data.columns, (pd.Int64Index, pd.RangeIndex)):\n",
      "c:\\Users\\User\\anaconda3\\lib\\site-packages\\xgboost\\sklearn.py:1224: UserWarning: The use of label encoder in XGBClassifier is deprecated and will be removed in a future release. To remove this warning, do the following: 1) Pass option use_label_encoder=False when constructing XGBClassifier object; and 2) Encode your labels (y) as integers starting with 0, i.e. 0, 1, 2, ..., [num_class - 1].\n",
      "  warnings.warn(label_encoder_deprecation_msg, UserWarning)\n",
      "c:\\Users\\User\\anaconda3\\lib\\site-packages\\xgboost\\data.py:250: FutureWarning: pandas.Int64Index is deprecated and will be removed from pandas in a future version. Use pandas.Index with the appropriate dtype instead.\n",
      "  elif isinstance(data.columns, (pd.Int64Index, pd.RangeIndex)):\n",
      "c:\\Users\\User\\anaconda3\\lib\\site-packages\\xgboost\\sklearn.py:1224: UserWarning: The use of label encoder in XGBClassifier is deprecated and will be removed in a future release. To remove this warning, do the following: 1) Pass option use_label_encoder=False when constructing XGBClassifier object; and 2) Encode your labels (y) as integers starting with 0, i.e. 0, 1, 2, ..., [num_class - 1].\n",
      "  warnings.warn(label_encoder_deprecation_msg, UserWarning)\n",
      "c:\\Users\\User\\anaconda3\\lib\\site-packages\\xgboost\\data.py:250: FutureWarning: pandas.Int64Index is deprecated and will be removed from pandas in a future version. Use pandas.Index with the appropriate dtype instead.\n",
      "  elif isinstance(data.columns, (pd.Int64Index, pd.RangeIndex)):\n",
      "c:\\Users\\User\\anaconda3\\lib\\site-packages\\xgboost\\sklearn.py:1224: UserWarning: The use of label encoder in XGBClassifier is deprecated and will be removed in a future release. To remove this warning, do the following: 1) Pass option use_label_encoder=False when constructing XGBClassifier object; and 2) Encode your labels (y) as integers starting with 0, i.e. 0, 1, 2, ..., [num_class - 1].\n",
      "  warnings.warn(label_encoder_deprecation_msg, UserWarning)\n",
      "c:\\Users\\User\\anaconda3\\lib\\site-packages\\xgboost\\data.py:250: FutureWarning: pandas.Int64Index is deprecated and will be removed from pandas in a future version. Use pandas.Index with the appropriate dtype instead.\n",
      "  elif isinstance(data.columns, (pd.Int64Index, pd.RangeIndex)):\n",
      "c:\\Users\\User\\anaconda3\\lib\\site-packages\\xgboost\\sklearn.py:1224: UserWarning: The use of label encoder in XGBClassifier is deprecated and will be removed in a future release. To remove this warning, do the following: 1) Pass option use_label_encoder=False when constructing XGBClassifier object; and 2) Encode your labels (y) as integers starting with 0, i.e. 0, 1, 2, ..., [num_class - 1].\n",
      "  warnings.warn(label_encoder_deprecation_msg, UserWarning)\n",
      "c:\\Users\\User\\anaconda3\\lib\\site-packages\\xgboost\\data.py:250: FutureWarning: pandas.Int64Index is deprecated and will be removed from pandas in a future version. Use pandas.Index with the appropriate dtype instead.\n",
      "  elif isinstance(data.columns, (pd.Int64Index, pd.RangeIndex)):\n",
      "c:\\Users\\User\\anaconda3\\lib\\site-packages\\xgboost\\sklearn.py:1224: UserWarning: The use of label encoder in XGBClassifier is deprecated and will be removed in a future release. To remove this warning, do the following: 1) Pass option use_label_encoder=False when constructing XGBClassifier object; and 2) Encode your labels (y) as integers starting with 0, i.e. 0, 1, 2, ..., [num_class - 1].\n",
      "  warnings.warn(label_encoder_deprecation_msg, UserWarning)\n",
      "c:\\Users\\User\\anaconda3\\lib\\site-packages\\xgboost\\data.py:250: FutureWarning: pandas.Int64Index is deprecated and will be removed from pandas in a future version. Use pandas.Index with the appropriate dtype instead.\n",
      "  elif isinstance(data.columns, (pd.Int64Index, pd.RangeIndex)):\n",
      "c:\\Users\\User\\anaconda3\\lib\\site-packages\\xgboost\\sklearn.py:1224: UserWarning: The use of label encoder in XGBClassifier is deprecated and will be removed in a future release. To remove this warning, do the following: 1) Pass option use_label_encoder=False when constructing XGBClassifier object; and 2) Encode your labels (y) as integers starting with 0, i.e. 0, 1, 2, ..., [num_class - 1].\n",
      "  warnings.warn(label_encoder_deprecation_msg, UserWarning)\n"
     ]
    },
    {
     "name": "stdout",
     "output_type": "stream",
     "text": [
      "[20:18:37] WARNING: C:\\Windows\\Temp\\abs_557yfx631l\\croots\\recipe\\xgboost-split_1659548953302\\work\\src\\learner.cc:1115: Starting in XGBoost 1.3.0, the default evaluation metric used with the objective 'binary:logistic' was changed from 'error' to 'logloss'. Explicitly set eval_metric if you'd like to restore the old behavior.\n",
      "[20:18:37] WARNING: C:\\Windows\\Temp\\abs_557yfx631l\\croots\\recipe\\xgboost-split_1659548953302\\work\\src\\learner.cc:1115: Starting in XGBoost 1.3.0, the default evaluation metric used with the objective 'binary:logistic' was changed from 'error' to 'logloss'. Explicitly set eval_metric if you'd like to restore the old behavior.\n",
      "[20:18:37] WARNING: C:\\Windows\\Temp\\abs_557yfx631l\\croots\\recipe\\xgboost-split_1659548953302\\work\\src\\learner.cc:1115: Starting in XGBoost 1.3.0, the default evaluation metric used with the objective 'binary:logistic' was changed from 'error' to 'logloss'. Explicitly set eval_metric if you'd like to restore the old behavior.\n",
      "[20:18:37] WARNING: C:\\Windows\\Temp\\abs_557yfx631l\\croots\\recipe\\xgboost-split_1659548953302\\work\\src\\learner.cc:1115: Starting in XGBoost 1.3.0, the default evaluation metric used with the objective 'binary:logistic' was changed from 'error' to 'logloss'. Explicitly set eval_metric if you'd like to restore the old behavior.\n"
     ]
    },
    {
     "name": "stderr",
     "output_type": "stream",
     "text": [
      "c:\\Users\\User\\anaconda3\\lib\\site-packages\\xgboost\\data.py:250: FutureWarning: pandas.Int64Index is deprecated and will be removed from pandas in a future version. Use pandas.Index with the appropriate dtype instead.\n",
      "  elif isinstance(data.columns, (pd.Int64Index, pd.RangeIndex)):\n",
      "c:\\Users\\User\\anaconda3\\lib\\site-packages\\xgboost\\sklearn.py:1224: UserWarning: The use of label encoder in XGBClassifier is deprecated and will be removed in a future release. To remove this warning, do the following: 1) Pass option use_label_encoder=False when constructing XGBClassifier object; and 2) Encode your labels (y) as integers starting with 0, i.e. 0, 1, 2, ..., [num_class - 1].\n",
      "  warnings.warn(label_encoder_deprecation_msg, UserWarning)\n",
      "c:\\Users\\User\\anaconda3\\lib\\site-packages\\xgboost\\data.py:250: FutureWarning: pandas.Int64Index is deprecated and will be removed from pandas in a future version. Use pandas.Index with the appropriate dtype instead.\n",
      "  elif isinstance(data.columns, (pd.Int64Index, pd.RangeIndex)):\n",
      "c:\\Users\\User\\anaconda3\\lib\\site-packages\\xgboost\\sklearn.py:1224: UserWarning: The use of label encoder in XGBClassifier is deprecated and will be removed in a future release. To remove this warning, do the following: 1) Pass option use_label_encoder=False when constructing XGBClassifier object; and 2) Encode your labels (y) as integers starting with 0, i.e. 0, 1, 2, ..., [num_class - 1].\n",
      "  warnings.warn(label_encoder_deprecation_msg, UserWarning)\n",
      "c:\\Users\\User\\anaconda3\\lib\\site-packages\\xgboost\\data.py:250: FutureWarning: pandas.Int64Index is deprecated and will be removed from pandas in a future version. Use pandas.Index with the appropriate dtype instead.\n",
      "  elif isinstance(data.columns, (pd.Int64Index, pd.RangeIndex)):\n",
      "c:\\Users\\User\\anaconda3\\lib\\site-packages\\xgboost\\sklearn.py:1224: UserWarning: The use of label encoder in XGBClassifier is deprecated and will be removed in a future release. To remove this warning, do the following: 1) Pass option use_label_encoder=False when constructing XGBClassifier object; and 2) Encode your labels (y) as integers starting with 0, i.e. 0, 1, 2, ..., [num_class - 1].\n",
      "  warnings.warn(label_encoder_deprecation_msg, UserWarning)\n",
      "c:\\Users\\User\\anaconda3\\lib\\site-packages\\xgboost\\data.py:250: FutureWarning: pandas.Int64Index is deprecated and will be removed from pandas in a future version. Use pandas.Index with the appropriate dtype instead.\n",
      "  elif isinstance(data.columns, (pd.Int64Index, pd.RangeIndex)):\n"
     ]
    },
    {
     "name": "stdout",
     "output_type": "stream",
     "text": [
      "[20:18:37] WARNING: C:\\Windows\\Temp\\abs_557yfx631l\\croots\\recipe\\xgboost-split_1659548953302\\work\\src\\learner.cc:1115: Starting in XGBoost 1.3.0, the default evaluation metric used with the objective 'binary:logistic' was changed from 'error' to 'logloss'. Explicitly set eval_metric if you'd like to restore the old behavior.\n",
      "[20:18:37] WARNING: C:\\Windows\\Temp\\abs_557yfx631l\\croots\\recipe\\xgboost-split_1659548953302\\work\\src\\learner.cc:1115: Starting in XGBoost 1.3.0, the default evaluation metric used with the objective 'binary:logistic' was changed from 'error' to 'logloss'. Explicitly set eval_metric if you'd like to restore the old behavior.\n",
      "[20:18:37] WARNING: C:\\Windows\\Temp\\abs_557yfx631l\\croots\\recipe\\xgboost-split_1659548953302\\work\\src\\learner.cc:1115: Starting in XGBoost 1.3.0, the default evaluation metric used with the objective 'binary:logistic' was changed from 'error' to 'logloss'. Explicitly set eval_metric if you'd like to restore the old behavior.\n",
      "[20:18:37] WARNING: C:\\Windows\\Temp\\abs_557yfx631l\\croots\\recipe\\xgboost-split_1659548953302\\work\\src\\learner.cc:1115: Starting in XGBoost 1.3.0, the default evaluation metric used with the objective 'binary:logistic' was changed from 'error' to 'logloss'. Explicitly set eval_metric if you'd like to restore the old behavior.\n"
     ]
    },
    {
     "name": "stderr",
     "output_type": "stream",
     "text": [
      "c:\\Users\\User\\anaconda3\\lib\\site-packages\\xgboost\\sklearn.py:1224: UserWarning: The use of label encoder in XGBClassifier is deprecated and will be removed in a future release. To remove this warning, do the following: 1) Pass option use_label_encoder=False when constructing XGBClassifier object; and 2) Encode your labels (y) as integers starting with 0, i.e. 0, 1, 2, ..., [num_class - 1].\n",
      "  warnings.warn(label_encoder_deprecation_msg, UserWarning)\n",
      "c:\\Users\\User\\anaconda3\\lib\\site-packages\\xgboost\\data.py:250: FutureWarning: pandas.Int64Index is deprecated and will be removed from pandas in a future version. Use pandas.Index with the appropriate dtype instead.\n",
      "  elif isinstance(data.columns, (pd.Int64Index, pd.RangeIndex)):\n",
      "c:\\Users\\User\\anaconda3\\lib\\site-packages\\xgboost\\sklearn.py:1224: UserWarning: The use of label encoder in XGBClassifier is deprecated and will be removed in a future release. To remove this warning, do the following: 1) Pass option use_label_encoder=False when constructing XGBClassifier object; and 2) Encode your labels (y) as integers starting with 0, i.e. 0, 1, 2, ..., [num_class - 1].\n",
      "  warnings.warn(label_encoder_deprecation_msg, UserWarning)\n",
      "c:\\Users\\User\\anaconda3\\lib\\site-packages\\xgboost\\data.py:250: FutureWarning: pandas.Int64Index is deprecated and will be removed from pandas in a future version. Use pandas.Index with the appropriate dtype instead.\n",
      "  elif isinstance(data.columns, (pd.Int64Index, pd.RangeIndex)):\n",
      "c:\\Users\\User\\anaconda3\\lib\\site-packages\\xgboost\\sklearn.py:1224: UserWarning: The use of label encoder in XGBClassifier is deprecated and will be removed in a future release. To remove this warning, do the following: 1) Pass option use_label_encoder=False when constructing XGBClassifier object; and 2) Encode your labels (y) as integers starting with 0, i.e. 0, 1, 2, ..., [num_class - 1].\n",
      "  warnings.warn(label_encoder_deprecation_msg, UserWarning)\n",
      "c:\\Users\\User\\anaconda3\\lib\\site-packages\\xgboost\\data.py:250: FutureWarning: pandas.Int64Index is deprecated and will be removed from pandas in a future version. Use pandas.Index with the appropriate dtype instead.\n",
      "  elif isinstance(data.columns, (pd.Int64Index, pd.RangeIndex)):\n"
     ]
    },
    {
     "name": "stdout",
     "output_type": "stream",
     "text": [
      "[20:18:37] WARNING: C:\\Windows\\Temp\\abs_557yfx631l\\croots\\recipe\\xgboost-split_1659548953302\\work\\src\\learner.cc:1115: Starting in XGBoost 1.3.0, the default evaluation metric used with the objective 'binary:logistic' was changed from 'error' to 'logloss'. Explicitly set eval_metric if you'd like to restore the old behavior.\n",
      "[20:18:37] WARNING: C:\\Windows\\Temp\\abs_557yfx631l\\croots\\recipe\\xgboost-split_1659548953302\\work\\src\\learner.cc:1115: Starting in XGBoost 1.3.0, the default evaluation metric used with the objective 'binary:logistic' was changed from 'error' to 'logloss'. Explicitly set eval_metric if you'd like to restore the old behavior.\n",
      "[20:18:37] WARNING: C:\\Windows\\Temp\\abs_557yfx631l\\croots\\recipe\\xgboost-split_1659548953302\\work\\src\\learner.cc:1115: Starting in XGBoost 1.3.0, the default evaluation metric used with the objective 'binary:logistic' was changed from 'error' to 'logloss'. Explicitly set eval_metric if you'd like to restore the old behavior.\n"
     ]
    },
    {
     "name": "stderr",
     "output_type": "stream",
     "text": [
      "c:\\Users\\User\\anaconda3\\lib\\site-packages\\xgboost\\sklearn.py:1224: UserWarning: The use of label encoder in XGBClassifier is deprecated and will be removed in a future release. To remove this warning, do the following: 1) Pass option use_label_encoder=False when constructing XGBClassifier object; and 2) Encode your labels (y) as integers starting with 0, i.e. 0, 1, 2, ..., [num_class - 1].\n",
      "  warnings.warn(label_encoder_deprecation_msg, UserWarning)\n",
      "c:\\Users\\User\\anaconda3\\lib\\site-packages\\xgboost\\data.py:250: FutureWarning: pandas.Int64Index is deprecated and will be removed from pandas in a future version. Use pandas.Index with the appropriate dtype instead.\n",
      "  elif isinstance(data.columns, (pd.Int64Index, pd.RangeIndex)):\n",
      "c:\\Users\\User\\anaconda3\\lib\\site-packages\\xgboost\\sklearn.py:1224: UserWarning: The use of label encoder in XGBClassifier is deprecated and will be removed in a future release. To remove this warning, do the following: 1) Pass option use_label_encoder=False when constructing XGBClassifier object; and 2) Encode your labels (y) as integers starting with 0, i.e. 0, 1, 2, ..., [num_class - 1].\n",
      "  warnings.warn(label_encoder_deprecation_msg, UserWarning)\n",
      "c:\\Users\\User\\anaconda3\\lib\\site-packages\\xgboost\\data.py:250: FutureWarning: pandas.Int64Index is deprecated and will be removed from pandas in a future version. Use pandas.Index with the appropriate dtype instead.\n",
      "  elif isinstance(data.columns, (pd.Int64Index, pd.RangeIndex)):\n",
      "c:\\Users\\User\\anaconda3\\lib\\site-packages\\xgboost\\sklearn.py:1224: UserWarning: The use of label encoder in XGBClassifier is deprecated and will be removed in a future release. To remove this warning, do the following: 1) Pass option use_label_encoder=False when constructing XGBClassifier object; and 2) Encode your labels (y) as integers starting with 0, i.e. 0, 1, 2, ..., [num_class - 1].\n",
      "  warnings.warn(label_encoder_deprecation_msg, UserWarning)\n",
      "c:\\Users\\User\\anaconda3\\lib\\site-packages\\xgboost\\data.py:250: FutureWarning: pandas.Int64Index is deprecated and will be removed from pandas in a future version. Use pandas.Index with the appropriate dtype instead.\n",
      "  elif isinstance(data.columns, (pd.Int64Index, pd.RangeIndex)):\n"
     ]
    },
    {
     "name": "stdout",
     "output_type": "stream",
     "text": [
      "[20:18:38] WARNING: C:\\Windows\\Temp\\abs_557yfx631l\\croots\\recipe\\xgboost-split_1659548953302\\work\\src\\learner.cc:1115: Starting in XGBoost 1.3.0, the default evaluation metric used with the objective 'binary:logistic' was changed from 'error' to 'logloss'. Explicitly set eval_metric if you'd like to restore the old behavior.\n",
      "Best parameters found:  {'max_depth': 3, 'n_estimators': 200}\n",
      "Mean squared error:  0.16071428571428573\n"
     ]
    }
   ],
   "source": [
    "X = features.drop(columns='death')\n",
    "y = features['death']\n",
    "X_train, X_test, y_train, y_test = train_test_split(X, y, test_size=0.2, random_state=42, stratify=y)\n",
    "\n",
    "param_grid = {'max_depth': [3, 5, 7], 'n_estimators': [50, 100, 200]}\n",
    "xgb_model = xgb.XGBClassifier()\n",
    "grid_search = GridSearchCV(xgb_model, param_grid, cv=5, scoring='accuracy')\n",
    "grid_search.fit(X_train, y_train)\n",
    "\n",
    "best_params = grid_search.best_params_\n",
    "print(\"Best parameters found: \", best_params)\n",
    "\n",
    "y_pred = grid_search.predict(X_test)\n",
    "mse = mean_squared_error(y_test, y_pred)\n",
    "print(\"Mean squared error: \", mse)\n"
   ]
  },
  {
   "cell_type": "code",
   "execution_count": 34,
   "metadata": {},
   "outputs": [
    {
     "name": "stdout",
     "output_type": "stream",
     "text": [
      "[20:18:46] WARNING: C:\\Windows\\Temp\\abs_557yfx631l\\croots\\recipe\\xgboost-split_1659548953302\\work\\src\\learner.cc:1115: Starting in XGBoost 1.3.0, the default evaluation metric used with the objective 'binary:logistic' was changed from 'error' to 'logloss'. Explicitly set eval_metric if you'd like to restore the old behavior.\n"
     ]
    },
    {
     "name": "stderr",
     "output_type": "stream",
     "text": [
      "c:\\Users\\User\\anaconda3\\lib\\site-packages\\xgboost\\sklearn.py:1224: UserWarning: The use of label encoder in XGBClassifier is deprecated and will be removed in a future release. To remove this warning, do the following: 1) Pass option use_label_encoder=False when constructing XGBClassifier object; and 2) Encode your labels (y) as integers starting with 0, i.e. 0, 1, 2, ..., [num_class - 1].\n",
      "  warnings.warn(label_encoder_deprecation_msg, UserWarning)\n",
      "c:\\Users\\User\\anaconda3\\lib\\site-packages\\xgboost\\data.py:250: FutureWarning: pandas.Int64Index is deprecated and will be removed from pandas in a future version. Use pandas.Index with the appropriate dtype instead.\n",
      "  elif isinstance(data.columns, (pd.Int64Index, pd.RangeIndex)):\n"
     ]
    }
   ],
   "source": [
    "# Best parameters found:  {'max_depth': 5, 'n_estimators': 50}\n",
    "# Mean squared error:  0.07142857142857142\n",
    "\n",
    "model_fine = xgb.XGBClassifier(max_depth=5, n_estimators=200)\n",
    "model_fine.fit(X_train, y_train)\n",
    "y_pred = model_fine.predict(X_test)\n",
    "\n"
   ]
  },
  {
   "cell_type": "code",
   "execution_count": 35,
   "metadata": {},
   "outputs": [
    {
     "data": {
      "text/plain": [
       "'F1 score:'"
      ]
     },
     "metadata": {},
     "output_type": "display_data"
    },
    {
     "data": {
      "text/plain": [
       "0.3333333333333333"
      ]
     },
     "metadata": {},
     "output_type": "display_data"
    }
   ],
   "source": [
    "f1 = f1_score(y_test, y_pred)\n",
    "display(\"F1 score:\", f1)"
   ]
  },
  {
   "cell_type": "code",
   "execution_count": 36,
   "metadata": {},
   "outputs": [
    {
     "name": "stdout",
     "output_type": "stream",
     "text": [
      "              precision    recall  f1-score   support\n",
      "\n",
      "         0.0       0.90      0.94      0.92        49\n",
      "         1.0       0.40      0.29      0.33         7\n",
      "\n",
      "    accuracy                           0.86        56\n",
      "   macro avg       0.65      0.61      0.63        56\n",
      "weighted avg       0.84      0.86      0.85        56\n",
      "\n"
     ]
    }
   ],
   "source": [
    "print(classification_report(y_test, y_pred))"
   ]
  },
  {
   "cell_type": "code",
   "execution_count": 37,
   "metadata": {},
   "outputs": [],
   "source": [
    "import matplotlib.pyplot as plt\n",
    "from sklearn.metrics import roc_curve, auc"
   ]
  },
  {
   "cell_type": "code",
   "execution_count": 38,
   "metadata": {},
   "outputs": [],
   "source": [
    "y_pred_proba = model_fine.predict_proba(X_test)"
   ]
  },
  {
   "cell_type": "code",
   "execution_count": 39,
   "metadata": {},
   "outputs": [
    {
     "data": {
      "image/png": "[encoded data removed]",
      "text/plain": [
       "<Figure size 432x288 with 1 Axes>"
      ]
     },
     "metadata": {
      "needs_background": "light"
     },
     "output_type": "display_data"
    }
   ],
   "source": [
    "fpr, tpr, thresholds = roc_curve(y_test, y_pred_proba[:, 1])\n",
    "\n",
    "# Compute the AUC\n",
    "roc_auc = auc(fpr, tpr)\n",
    "\n",
    "# Plot the ROC curve\n",
    "plt.title('Receiver Operating Characteristic')\n",
    "plt.plot(fpr, tpr, 'b', label = 'AUC = %0.2f' % roc_auc)\n",
    "plt.legend(loc = 'lower right')\n",
    "plt.plot([0, 1], [0, 1],'r--')\n",
    "plt.xlim([0, 1])\n",
    "plt.ylim([0, 1])\n",
    "plt.ylabel('True Positive Rate')\n",
    "plt.xlabel('False Positive Rate')\n",
    "plt.show()"
   ]
  },
  {
   "cell_type": "code",
   "execution_count": 40,
   "metadata": {},
   "outputs": [
    {
     "data": {
      "text/plain": [
       "Text(0.5, 0, 'relative importance')"
      ]
     },
     "execution_count": 40,
     "metadata": {},
     "output_type": "execute_result"
    },
    {
     "data": {
      "text/plain": [
       "<Figure size 432x288 with 0 Axes>"
      ]
     },
     "metadata": {},
     "output_type": "display_data"
    },
    {
     "data": {
      "image/png": "[encoded data removed]",
      "text/plain": [
       "<Figure size 432x288 with 1 Axes>"
      ]
     },
     "metadata": {
      "needs_background": "light"
     },
     "output_type": "display_data"
    },
    {
     "data": {
      "image/png": "[encoded data removed]",
      "text/plain": [
       "<Figure size 432x720 with 1 Axes>"
      ]
     },
     "metadata": {
      "needs_background": "light"
     },
     "output_type": "display_data"
    }
   ],
   "source": [
    "# Get feature importance values\n",
    "importance = model_fine.get_booster().get_score(importance_type='weight')\n",
    "importance = sorted(importance.items(), key=lambda x: x[1])\n",
    "\n",
    "# Plot feature importance\n",
    "df = pd.DataFrame(importance, columns=['feature', 'fscore'])\n",
    "df['fscore'] = df['fscore'] / df['fscore'].sum()\n",
    "\n",
    "plt.figure()\n",
    "df.plot()\n",
    "df.plot(kind='barh', x='feature', y='fscore', legend=False, figsize=(6, 10))\n",
    "plt.title('XGBoost Feature Importance')\n",
    "plt.xlabel('relative importance')"
   ]
  },
  {
   "cell_type": "code",
   "execution_count": 24,
   "metadata": {},
   "outputs": [
    {
     "data": {
      "text/plain": [
       "{'อายุ': 1,\n",
       " 'แรกรับ at  หญ. : HR ': 2,\n",
       " 'แรกรับ : SBP': 3,\n",
       " 'แรกรับ : DBP': 4,\n",
       " 'แรกรับ : RR ': 5,\n",
       " 'แรกรับ O2 sat': 6,\n",
       " '1. DM': 7,\n",
       " '2. HT': 8,\n",
       " '3. DLP': 9,\n",
       " '4. Smoking': 10,\n",
       " '4.1 No smoking': 11,\n",
       " '5. FH': 12,\n",
       " '6. Prior MI': 13,\n",
       " '7. Prior HF': 14,\n",
       " '8. Prior PCI': 15,\n",
       " '9. Prior CABG': 16,\n",
       " '10. CVA': 17,\n",
       " '11. PAD': 18,\n",
       " '12. COPD': 19,\n",
       " '13. CKD ≥ Stage 3 (eGFR<60cc/min)': 20,\n",
       " 'Hx On Dialysis': 21,\n",
       " 'Cardiogenic shock': 22,\n",
       " 'HF': 23,\n",
       " 'แรกรับ On ETT': 24,\n",
       " 'แรกรับ No ETT': 25,\n",
       " 'A. Tachyarrhythmia': 26,\n",
       " '1. AF': 27,\n",
       " '2. SVT': 28,\n",
       " '3. Non-sustained VT ': 29,\n",
       " '4. VT/ VF': 30,\n",
       " '5. VT/VF Required defibrillation': 31,\n",
       " '6. CPR ': 32,\n",
       " 'B. Bradyarrhythmia': 33,\n",
       " '1. CHB ': 34,\n",
       " '2. 2 ํ AV Block': 35,\n",
       " 'On Ext. pace': 36,\n",
       " 'On TPM': 37,\n",
       " 'Echo in Visit': 38,\n",
       " 'EF %': 39,\n",
       " 'Elevate Trop N': 40,\n",
       " 'No Elevate Trop N': 41,\n",
       " 'Killip 1': 42,\n",
       " 'Killip 2': 43,\n",
       " 'Killip 3': 44,\n",
       " 'Killip 4': 45,\n",
       " 'D/C Death ทั้งหมด': 46}"
      ]
     },
     "execution_count": 24,
     "metadata": {},
     "output_type": "execute_result"
    }
   ],
   "source": [
    "columns_dict"
   ]
  },
  {
   "cell_type": "code",
   "execution_count": null,
   "metadata": {},
   "outputs": [],
   "source": []
  },
  {
   "cell_type": "code",
   "execution_count": 25,
   "metadata": {},
   "outputs": [
    {
     "name": "stdout",
     "output_type": "stream",
     "text": [
      "[19:46:56] WARNING: C:\\Windows\\Temp\\abs_557yfx631l\\croots\\recipe\\xgboost-split_1659548953302\\work\\src\\learner.cc:1115: Starting in XGBoost 1.3.0, the default evaluation metric used with the objective 'binary:logistic' was changed from 'error' to 'logloss'. Explicitly set eval_metric if you'd like to restore the old behavior.\n"
     ]
    },
    {
     "name": "stderr",
     "output_type": "stream",
     "text": [
      "c:\\Users\\User\\anaconda3\\lib\\site-packages\\xgboost\\sklearn.py:1224: UserWarning: The use of label encoder in XGBClassifier is deprecated and will be removed in a future release. To remove this warning, do the following: 1) Pass option use_label_encoder=False when constructing XGBClassifier object; and 2) Encode your labels (y) as integers starting with 0, i.e. 0, 1, 2, ..., [num_class - 1].\n",
      "  warnings.warn(label_encoder_deprecation_msg, UserWarning)\n",
      "c:\\Users\\User\\anaconda3\\lib\\site-packages\\xgboost\\data.py:250: FutureWarning: pandas.Int64Index is deprecated and will be removed from pandas in a future version. Use pandas.Index with the appropriate dtype instead.\n",
      "  elif isinstance(data.columns, (pd.Int64Index, pd.RangeIndex)):\n"
     ]
    },
    {
     "data": {
      "text/plain": [
       "XGBClassifier(base_score=0.5, booster='gbtree', colsample_bylevel=1,\n",
       "              colsample_bynode=1, colsample_bytree=1, enable_categorical=False,\n",
       "              gamma=0, gpu_id=-1, importance_type=None,\n",
       "              interaction_constraints='', learning_rate=0.300000012,\n",
       "              max_delta_step=0, max_depth=5, min_child_weight=1, missing=nan,\n",
       "              monotone_constraints='()', n_estimators=50, n_jobs=12,\n",
       "              num_parallel_tree=1, predictor='auto', random_state=0,\n",
       "              reg_alpha=0, reg_lambda=1, scale_pos_weight=1, subsample=1,\n",
       "              tree_method='exact', validate_parameters=1, verbosity=None)"
      ]
     },
     "execution_count": 25,
     "metadata": {},
     "output_type": "execute_result"
    }
   ],
   "source": [
    "### Exporting moddel\n",
    "\n",
    "model_all = xgb.XGBClassifier(max_depth=5, n_estimators=50)\n",
    "model_all.fit(X, y)\n",
    "\n",
    "# import pickle\n",
    "# with open('death_model.pkl', 'wb') as f:\n",
    "#     pickle.dump(model_all, f)"
   ]
  },
  {
   "cell_type": "code",
   "execution_count": 42,
   "metadata": {},
   "outputs": [
    {
     "name": "stderr",
     "output_type": "stream",
     "text": [
      "c:\\Users\\User\\anaconda3\\lib\\site-packages\\xgboost\\sklearn.py:1224: UserWarning: The use of label encoder in XGBClassifier is deprecated and will be removed in a future release. To remove this warning, do the following: 1) Pass option use_label_encoder=False when constructing XGBClassifier object; and 2) Encode your labels (y) as integers starting with 0, i.e. 0, 1, 2, ..., [num_class - 1].\n",
      "  warnings.warn(label_encoder_deprecation_msg, UserWarning)\n",
      "c:\\Users\\User\\anaconda3\\lib\\site-packages\\xgboost\\data.py:250: FutureWarning: pandas.Int64Index is deprecated and will be removed from pandas in a future version. Use pandas.Index with the appropriate dtype instead.\n",
      "  elif isinstance(data.columns, (pd.Int64Index, pd.RangeIndex)):\n",
      "c:\\Users\\User\\anaconda3\\lib\\site-packages\\xgboost\\sklearn.py:1224: UserWarning: The use of label encoder in XGBClassifier is deprecated and will be removed in a future release. To remove this warning, do the following: 1) Pass option use_label_encoder=False when constructing XGBClassifier object; and 2) Encode your labels (y) as integers starting with 0, i.e. 0, 1, 2, ..., [num_class - 1].\n",
      "  warnings.warn(label_encoder_deprecation_msg, UserWarning)\n",
      "c:\\Users\\User\\anaconda3\\lib\\site-packages\\xgboost\\data.py:250: FutureWarning: pandas.Int64Index is deprecated and will be removed from pandas in a future version. Use pandas.Index with the appropriate dtype instead.\n",
      "  elif isinstance(data.columns, (pd.Int64Index, pd.RangeIndex)):\n"
     ]
    },
    {
     "name": "stdout",
     "output_type": "stream",
     "text": [
      "[20:20:17] WARNING: C:\\Windows\\Temp\\abs_557yfx631l\\croots\\recipe\\xgboost-split_1659548953302\\work\\src\\learner.cc:1115: Starting in XGBoost 1.3.0, the default evaluation metric used with the objective 'binary:logistic' was changed from 'error' to 'logloss'. Explicitly set eval_metric if you'd like to restore the old behavior.\n",
      "[20:20:17] WARNING: C:\\Windows\\Temp\\abs_557yfx631l\\croots\\recipe\\xgboost-split_1659548953302\\work\\src\\learner.cc:1115: Starting in XGBoost 1.3.0, the default evaluation metric used with the objective 'binary:logistic' was changed from 'error' to 'logloss'. Explicitly set eval_metric if you'd like to restore the old behavior.\n"
     ]
    },
    {
     "name": "stderr",
     "output_type": "stream",
     "text": [
      "c:\\Users\\User\\anaconda3\\lib\\site-packages\\xgboost\\sklearn.py:1224: UserWarning: The use of label encoder in XGBClassifier is deprecated and will be removed in a future release. To remove this warning, do the following: 1) Pass option use_label_encoder=False when constructing XGBClassifier object; and 2) Encode your labels (y) as integers starting with 0, i.e. 0, 1, 2, ..., [num_class - 1].\n",
      "  warnings.warn(label_encoder_deprecation_msg, UserWarning)\n",
      "c:\\Users\\User\\anaconda3\\lib\\site-packages\\xgboost\\data.py:250: FutureWarning: pandas.Int64Index is deprecated and will be removed from pandas in a future version. Use pandas.Index with the appropriate dtype instead.\n",
      "  elif isinstance(data.columns, (pd.Int64Index, pd.RangeIndex)):\n",
      "c:\\Users\\User\\anaconda3\\lib\\site-packages\\xgboost\\sklearn.py:1224: UserWarning: The use of label encoder in XGBClassifier is deprecated and will be removed in a future release. To remove this warning, do the following: 1) Pass option use_label_encoder=False when constructing XGBClassifier object; and 2) Encode your labels (y) as integers starting with 0, i.e. 0, 1, 2, ..., [num_class - 1].\n",
      "  warnings.warn(label_encoder_deprecation_msg, UserWarning)\n",
      "c:\\Users\\User\\anaconda3\\lib\\site-packages\\xgboost\\data.py:250: FutureWarning: pandas.Int64Index is deprecated and will be removed from pandas in a future version. Use pandas.Index with the appropriate dtype instead.\n",
      "  elif isinstance(data.columns, (pd.Int64Index, pd.RangeIndex)):\n",
      "c:\\Users\\User\\anaconda3\\lib\\site-packages\\xgboost\\sklearn.py:1224: UserWarning: The use of label encoder in XGBClassifier is deprecated and will be removed in a future release. To remove this warning, do the following: 1) Pass option use_label_encoder=False when constructing XGBClassifier object; and 2) Encode your labels (y) as integers starting with 0, i.e. 0, 1, 2, ..., [num_class - 1].\n",
      "  warnings.warn(label_encoder_deprecation_msg, UserWarning)\n"
     ]
    },
    {
     "name": "stdout",
     "output_type": "stream",
     "text": [
      "[20:20:17] WARNING: C:\\Windows\\Temp\\abs_557yfx631l\\croots\\recipe\\xgboost-split_1659548953302\\work\\src\\learner.cc:1115: Starting in XGBoost 1.3.0, the default evaluation metric used with the objective 'binary:logistic' was changed from 'error' to 'logloss'. Explicitly set eval_metric if you'd like to restore the old behavior.\n",
      "[20:20:17] WARNING: C:\\Windows\\Temp\\abs_557yfx631l\\croots\\recipe\\xgboost-split_1659548953302\\work\\src\\learner.cc:1115: Starting in XGBoost 1.3.0, the default evaluation metric used with the objective 'binary:logistic' was changed from 'error' to 'logloss'. Explicitly set eval_metric if you'd like to restore the old behavior.\n"
     ]
    },
    {
     "name": "stderr",
     "output_type": "stream",
     "text": [
      "c:\\Users\\User\\anaconda3\\lib\\site-packages\\xgboost\\data.py:250: FutureWarning: pandas.Int64Index is deprecated and will be removed from pandas in a future version. Use pandas.Index with the appropriate dtype instead.\n",
      "  elif isinstance(data.columns, (pd.Int64Index, pd.RangeIndex)):\n",
      "c:\\Users\\User\\anaconda3\\lib\\site-packages\\xgboost\\sklearn.py:1224: UserWarning: The use of label encoder in XGBClassifier is deprecated and will be removed in a future release. To remove this warning, do the following: 1) Pass option use_label_encoder=False when constructing XGBClassifier object; and 2) Encode your labels (y) as integers starting with 0, i.e. 0, 1, 2, ..., [num_class - 1].\n",
      "  warnings.warn(label_encoder_deprecation_msg, UserWarning)\n",
      "c:\\Users\\User\\anaconda3\\lib\\site-packages\\xgboost\\data.py:250: FutureWarning: pandas.Int64Index is deprecated and will be removed from pandas in a future version. Use pandas.Index with the appropriate dtype instead.\n",
      "  elif isinstance(data.columns, (pd.Int64Index, pd.RangeIndex)):\n",
      "c:\\Users\\User\\anaconda3\\lib\\site-packages\\xgboost\\sklearn.py:1224: UserWarning: The use of label encoder in XGBClassifier is deprecated and will be removed in a future release. To remove this warning, do the following: 1) Pass option use_label_encoder=False when constructing XGBClassifier object; and 2) Encode your labels (y) as integers starting with 0, i.e. 0, 1, 2, ..., [num_class - 1].\n",
      "  warnings.warn(label_encoder_deprecation_msg, UserWarning)\n",
      "c:\\Users\\User\\anaconda3\\lib\\site-packages\\xgboost\\data.py:250: FutureWarning: pandas.Int64Index is deprecated and will be removed from pandas in a future version. Use pandas.Index with the appropriate dtype instead.\n",
      "  elif isinstance(data.columns, (pd.Int64Index, pd.RangeIndex)):\n"
     ]
    },
    {
     "name": "stdout",
     "output_type": "stream",
     "text": [
      "[20:20:18] WARNING: C:\\Windows\\Temp\\abs_557yfx631l\\croots\\recipe\\xgboost-split_1659548953302\\work\\src\\learner.cc:1115: Starting in XGBoost 1.3.0, the default evaluation metric used with the objective 'binary:logistic' was changed from 'error' to 'logloss'. Explicitly set eval_metric if you'd like to restore the old behavior.\n",
      "[20:20:18] WARNING: C:\\Windows\\Temp\\abs_557yfx631l\\croots\\recipe\\xgboost-split_1659548953302\\work\\src\\learner.cc:1115: Starting in XGBoost 1.3.0, the default evaluation metric used with the objective 'binary:logistic' was changed from 'error' to 'logloss'. Explicitly set eval_metric if you'd like to restore the old behavior.\n",
      "[20:20:18] WARNING: C:\\Windows\\Temp\\abs_557yfx631l\\croots\\recipe\\xgboost-split_1659548953302\\work\\src\\learner.cc:1115: Starting in XGBoost 1.3.0, the default evaluation metric used with the objective 'binary:logistic' was changed from 'error' to 'logloss'. Explicitly set eval_metric if you'd like to restore the old behavior.\n",
      "[20:20:18] WARNING: C:\\Windows\\Temp\\abs_557yfx631l\\croots\\recipe\\xgboost-split_1659548953302\\work\\src\\learner.cc:1115: Starting in XGBoost 1.3.0, the default evaluation metric used with the objective 'binary:logistic' was changed from 'error' to 'logloss'. Explicitly set eval_metric if you'd like to restore the old behavior.\n"
     ]
    },
    {
     "name": "stderr",
     "output_type": "stream",
     "text": [
      "c:\\Users\\User\\anaconda3\\lib\\site-packages\\xgboost\\sklearn.py:1224: UserWarning: The use of label encoder in XGBClassifier is deprecated and will be removed in a future release. To remove this warning, do the following: 1) Pass option use_label_encoder=False when constructing XGBClassifier object; and 2) Encode your labels (y) as integers starting with 0, i.e. 0, 1, 2, ..., [num_class - 1].\n",
      "  warnings.warn(label_encoder_deprecation_msg, UserWarning)\n",
      "c:\\Users\\User\\anaconda3\\lib\\site-packages\\xgboost\\data.py:250: FutureWarning: pandas.Int64Index is deprecated and will be removed from pandas in a future version. Use pandas.Index with the appropriate dtype instead.\n",
      "  elif isinstance(data.columns, (pd.Int64Index, pd.RangeIndex)):\n",
      "c:\\Users\\User\\anaconda3\\lib\\site-packages\\xgboost\\sklearn.py:1224: UserWarning: The use of label encoder in XGBClassifier is deprecated and will be removed in a future release. To remove this warning, do the following: 1) Pass option use_label_encoder=False when constructing XGBClassifier object; and 2) Encode your labels (y) as integers starting with 0, i.e. 0, 1, 2, ..., [num_class - 1].\n",
      "  warnings.warn(label_encoder_deprecation_msg, UserWarning)\n",
      "c:\\Users\\User\\anaconda3\\lib\\site-packages\\xgboost\\data.py:250: FutureWarning: pandas.Int64Index is deprecated and will be removed from pandas in a future version. Use pandas.Index with the appropriate dtype instead.\n",
      "  elif isinstance(data.columns, (pd.Int64Index, pd.RangeIndex)):\n",
      "c:\\Users\\User\\anaconda3\\lib\\site-packages\\xgboost\\sklearn.py:1224: UserWarning: The use of label encoder in XGBClassifier is deprecated and will be removed in a future release. To remove this warning, do the following: 1) Pass option use_label_encoder=False when constructing XGBClassifier object; and 2) Encode your labels (y) as integers starting with 0, i.e. 0, 1, 2, ..., [num_class - 1].\n",
      "  warnings.warn(label_encoder_deprecation_msg, UserWarning)\n"
     ]
    },
    {
     "name": "stdout",
     "output_type": "stream",
     "text": [
      "[20:20:18] WARNING: C:\\Windows\\Temp\\abs_557yfx631l\\croots\\recipe\\xgboost-split_1659548953302\\work\\src\\learner.cc:1115: Starting in XGBoost 1.3.0, the default evaluation metric used with the objective 'binary:logistic' was changed from 'error' to 'logloss'. Explicitly set eval_metric if you'd like to restore the old behavior.\n",
      "[20:20:18] WARNING: C:\\Windows\\Temp\\abs_557yfx631l\\croots\\recipe\\xgboost-split_1659548953302\\work\\src\\learner.cc:1115: Starting in XGBoost 1.3.0, the default evaluation metric used with the objective 'binary:logistic' was changed from 'error' to 'logloss'. Explicitly set eval_metric if you'd like to restore the old behavior.\n",
      "0.6114212455899386\n"
     ]
    },
    {
     "name": "stderr",
     "output_type": "stream",
     "text": [
      "c:\\Users\\User\\anaconda3\\lib\\site-packages\\xgboost\\data.py:250: FutureWarning: pandas.Int64Index is deprecated and will be removed from pandas in a future version. Use pandas.Index with the appropriate dtype instead.\n",
      "  elif isinstance(data.columns, (pd.Int64Index, pd.RangeIndex)):\n"
     ]
    }
   ],
   "source": [
    "from sklearn.model_selection import KFold\n",
    "from sklearn.metrics import recall_score\n",
    "\n",
    "k = 10\n",
    "kf = KFold(n_splits=k)\n",
    "scores = []\n",
    "for train_index, val_index in kf.split(X):\n",
    "    X_train, X_val = X.iloc[train_index], X.iloc[val_index]\n",
    "    y_train, y_val = y.iloc[train_index], y.iloc[val_index]\n",
    "    \n",
    "    model = xgb.XGBClassifier(max_depth=5, n_estimators=200)\n",
    "    model.fit(X_train, y_train)\n",
    "    \n",
    "    y_pred = model.predict(X_val)\n",
    "    score = f1_score(y_val, y_pred, average='macro')\n",
    "    scores.append(score)\n",
    "    \n",
    "avg_score = sum(scores) / len(scores)\n",
    "\n",
    "print(avg_score)\n"
   ]
  },
  {
   "cell_type": "code",
   "execution_count": 43,
   "metadata": {},
   "outputs": [
    {
     "name": "stdout",
     "output_type": "stream",
     "text": [
      "{'n_neighbors': 12}\n"
     ]
    }
   ],
   "source": [
    "# k-NN Model\n",
    "\n",
    "from sklearn.neighbors import KNeighborsClassifier\n",
    "\n",
    "knn = KNeighborsClassifier()\n",
    "\n",
    "params_knn = {'n_neighbors': np.arange(1, 25)}\n",
    "\n",
    "knn_gs = GridSearchCV(knn, params_knn, cv=5)\n",
    "\n",
    "knn_gs.fit(X_train, y_train)\n",
    "\n",
    "knn_best = knn_gs.best_estimator_\n",
    "\n",
    "print(knn_gs.best_params_)"
   ]
  },
  {
   "cell_type": "code",
   "execution_count": 44,
   "metadata": {},
   "outputs": [
    {
     "name": "stdout",
     "output_type": "stream",
     "text": [
      "{'n_estimators': 50}\n"
     ]
    }
   ],
   "source": [
    "#Random Forest\n",
    "\n",
    "from sklearn.ensemble import RandomForestClassifier\n",
    "\n",
    "rf = RandomForestClassifier()\n",
    "\n",
    "params_rf = {'n_estimators': [50, 100, 200]}\n",
    "\n",
    "rf_gs = GridSearchCV(rf, params_rf, cv=5)\n",
    "\n",
    "rf_gs.fit(X_train, y_train)\n",
    "\n",
    "rf_best = rf_gs.best_estimator_\n",
    "\n",
    "print(rf_gs.best_params_)"
   ]
  },
  {
   "cell_type": "code",
   "execution_count": 45,
   "metadata": {},
   "outputs": [
    {
     "name": "stderr",
     "output_type": "stream",
     "text": [
      "c:\\Users\\User\\anaconda3\\lib\\site-packages\\sklearn\\linear_model\\_logistic.py:814: ConvergenceWarning: lbfgs failed to converge (status=1):\n",
      "STOP: TOTAL NO. of ITERATIONS REACHED LIMIT.\n",
      "\n",
      "Increase the number of iterations (max_iter) or scale the data as shown in:\n",
      "    https://scikit-learn.org/stable/modules/preprocessing.html\n",
      "Please also refer to the documentation for alternative solver options:\n",
      "    https://scikit-learn.org/stable/modules/linear_model.html#logistic-regression\n",
      "  n_iter_i = _check_optimize_result(\n"
     ]
    },
    {
     "data": {
      "text/plain": [
       "LogisticRegression()"
      ]
     },
     "execution_count": 45,
     "metadata": {},
     "output_type": "execute_result"
    }
   ],
   "source": [
    "#Logistic Regression\n",
    "\n",
    "from sklearn.linear_model import LogisticRegression\n",
    "\n",
    "log_reg = LogisticRegression()\n",
    "\n",
    "log_reg.fit(X_train, y_train)"
   ]
  },
  {
   "cell_type": "code",
   "execution_count": 46,
   "metadata": {},
   "outputs": [
    {
     "name": "stdout",
     "output_type": "stream",
     "text": [
      "knn: 0.875\n",
      "rf: 0.9642857142857143\n",
      "log_reg: 0.9107142857142857\n"
     ]
    }
   ],
   "source": [
    "print('knn: {}'.format(knn_best.score(X_test, y_test)))\n",
    "print('rf: {}'.format(rf_best.score(X_test, y_test)))\n",
    "print('log_reg: {}'.format(log_reg.score(X_test, y_test)))"
   ]
  },
  {
   "cell_type": "code",
   "execution_count": 47,
   "metadata": {},
   "outputs": [
    {
     "name": "stderr",
     "output_type": "stream",
     "text": [
      "c:\\Users\\User\\anaconda3\\lib\\site-packages\\sklearn\\linear_model\\_logistic.py:814: ConvergenceWarning: lbfgs failed to converge (status=1):\n",
      "STOP: TOTAL NO. of ITERATIONS REACHED LIMIT.\n",
      "\n",
      "Increase the number of iterations (max_iter) or scale the data as shown in:\n",
      "    https://scikit-learn.org/stable/modules/preprocessing.html\n",
      "Please also refer to the documentation for alternative solver options:\n",
      "    https://scikit-learn.org/stable/modules/linear_model.html#logistic-regression\n",
      "  n_iter_i = _check_optimize_result(\n"
     ]
    },
    {
     "data": {
      "text/plain": [
       "0.9464285714285714"
      ]
     },
     "execution_count": 47,
     "metadata": {},
     "output_type": "execute_result"
    }
   ],
   "source": [
    "from sklearn.ensemble import VotingClassifier\n",
    "\n",
    "estimators =  [('knn', knn_best), ('rf', rf_best), ('log_reg', log_reg)]\n",
    "\n",
    "ensemble = VotingClassifier(estimators, voting='hard')\n",
    "\n",
    "ensemble.fit(X_train, y_train)\n",
    "\n",
    "ensemble.score(X_test, y_test)"
   ]
  },
  {
   "cell_type": "code",
   "execution_count": 49,
   "metadata": {},
   "outputs": [
    {
     "name": "stderr",
     "output_type": "stream",
     "text": [
      "c:\\Users\\User\\anaconda3\\lib\\site-packages\\sklearn\\linear_model\\_logistic.py:814: ConvergenceWarning: lbfgs failed to converge (status=1):\n",
      "STOP: TOTAL NO. of ITERATIONS REACHED LIMIT.\n",
      "\n",
      "Increase the number of iterations (max_iter) or scale the data as shown in:\n",
      "    https://scikit-learn.org/stable/modules/preprocessing.html\n",
      "Please also refer to the documentation for alternative solver options:\n",
      "    https://scikit-learn.org/stable/modules/linear_model.html#logistic-regression\n",
      "  n_iter_i = _check_optimize_result(\n",
      "c:\\Users\\User\\anaconda3\\lib\\site-packages\\sklearn\\linear_model\\_logistic.py:814: ConvergenceWarning: lbfgs failed to converge (status=1):\n",
      "STOP: TOTAL NO. of ITERATIONS REACHED LIMIT.\n",
      "\n",
      "Increase the number of iterations (max_iter) or scale the data as shown in:\n",
      "    https://scikit-learn.org/stable/modules/preprocessing.html\n",
      "Please also refer to the documentation for alternative solver options:\n",
      "    https://scikit-learn.org/stable/modules/linear_model.html#logistic-regression\n",
      "  n_iter_i = _check_optimize_result(\n"
     ]
    },
    {
     "data": {
      "text/plain": [
       "VotingClassifier(estimators=[('knn', KNeighborsClassifier(n_neighbors=12)),\n",
       "                             ('rf', RandomForestClassifier(n_estimators=50)),\n",
       "                             ('log_reg', LogisticRegression())])"
      ]
     },
     "execution_count": 49,
     "metadata": {},
     "output_type": "execute_result"
    }
   ],
   "source": [
    "#Fit Ensemble model to all data\n",
    "knn_all = KNeighborsClassifier(n_neighbors=12)\n",
    "knn_all.fit(X, y)\n",
    "\n",
    "rf_all = RandomForestClassifier(n_estimators=50)\n",
    "rf_all.fit(X, y)\n",
    "\n",
    "log_reg_all = LogisticRegression()\n",
    "log_reg_all.fit(X, y)\n",
    "\n",
    "estimators_all =  [('knn', knn_all), ('rf', rf_all), ('log_reg', log_reg_all)]\n",
    "ensemble_all = VotingClassifier(estimators_all, voting='hard')\n",
    "ensemble_all.fit(X, y)\n"
   ]
  },
  {
   "cell_type": "code",
   "execution_count": 50,
   "metadata": {},
   "outputs": [],
   "source": [
    "import pickle\n",
    "\n",
    "filename = 'death_model_ensemble.pkl'\n",
    "with open(filename, 'wb') as f:\n",
    "    pickle.dump(ensemble_all, f)"
   ]
  },
  {
   "cell_type": "code",
   "execution_count": null,
   "metadata": {},
   "outputs": [],
   "source": []
  }
 ],
 "metadata": {
  "kernelspec": {
   "display_name": "base",
   "language": "python",
   "name": "python3"
  },
  "language_info": {
   "codemirror_mode": {
    "name": "ipython",
    "version": 3
   },
   "file_extension": ".py",
   "mimetype": "text/x-python",
   "name": "python",
   "nbconvert_exporter": "python",
   "pygments_lexer": "ipython3",
   "version": "3.9.12"
  },
  "orig_nbformat": 4,
  "vscode": {
   "interpreter": {
    "hash": "f08154012ddadd8e950e6e9e035c7a7b32c136e7647e9b7c77e02eb723a8bedb"
   }
  }
 },
 "nbformat": 4,
 "nbformat_minor": 2
}
